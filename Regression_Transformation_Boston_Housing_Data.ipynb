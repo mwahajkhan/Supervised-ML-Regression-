{
  "nbformat": 4,
  "nbformat_minor": 0,
  "metadata": {
    "colab": {
      "provenance": [],
      "authorship_tag": "ABX9TyPKsZNW9r1k46W56UiquRXZ",
      "include_colab_link": true
    },
    "kernelspec": {
      "name": "python3",
      "display_name": "Python 3"
    },
    "language_info": {
      "name": "python"
    }
  },
  "cells": [
    {
      "cell_type": "markdown",
      "metadata": {
        "id": "view-in-github",
        "colab_type": "text"
      },
      "source": [
        "<a href=\"https://colab.research.google.com/github/mwahajkhan/Supervised-ML-Regression-/blob/main/Regression_Transformation_Boston_Housing_Data.ipynb\" target=\"_parent\"><img src=\"https://colab.research.google.com/assets/colab-badge.svg\" alt=\"Open In Colab\"/></a>"
      ]
    },
    {
      "cell_type": "markdown",
      "source": [
        "##**Regression: Transforming Target**\n",
        "\n",
        "* Data: Boston Housing Data\n",
        "* Applying transformations to make target variable more normally distributed for Regression\n",
        "* Applying inverse transformations to be able to use these in a Regression context"
      ],
      "metadata": {
        "id": "mNxBccSGsup4"
      }
    },
    {
      "cell_type": "code",
      "execution_count": 7,
      "metadata": {
        "id": "vHMQfObZsht0"
      },
      "outputs": [],
      "source": [
        "#import important libraries\n",
        "\n",
        "import numpy as np\n",
        "import pandas as pd\n",
        "import matplotlib.pyplot as plt\n",
        "%matplotlib inline"
      ]
    },
    {
      "cell_type": "markdown",
      "source": [
        "* **Defining some important plotting functions:**\n",
        "\n"
      ],
      "metadata": {
        "id": "kMs5tdbmuxJp"
      }
    },
    {
      "cell_type": "code",
      "source": [
        "np.random.seed(72018)\n",
        "\n",
        "\n",
        "def to_2d(array):\n",
        "    return array.reshape(array.shape[0], -1)\n",
        "\n",
        "def plot_exponential_data():\n",
        "    data = np.exp(np.random.normal(size=1000))\n",
        "    plt.hist(data)\n",
        "    plt.show()\n",
        "    return data\n",
        "\n",
        "def plot_square_normal_data():\n",
        "    data = np.square(np.random.normal(loc=5, size=1000))\n",
        "    plt.hist(data)\n",
        "    plt.show()\n",
        "    return data"
      ],
      "metadata": {
        "id": "qNWPgDY-ujVB"
      },
      "execution_count": 8,
      "outputs": []
    },
    {
      "cell_type": "markdown",
      "source": [
        "* **Fetching data:**"
      ],
      "metadata": {
        "id": "6EkACreku_2i"
      }
    },
    {
      "cell_type": "code",
      "source": [
        "!wget \"https://cf-courses-data.s3.us.cloud-object-storage.appdomain.cloud/IBM-ML240EN-SkillsNetwork/labs/data/boston_housing_clean.pickle\""
      ],
      "metadata": {
        "colab": {
          "base_uri": "https://localhost:8080/"
        },
        "id": "4-N7KJ0puas9",
        "outputId": "ccacdb73-0815-4aa0-a276-23ac28e9fda2"
      },
      "execution_count": 9,
      "outputs": [
        {
          "output_type": "stream",
          "name": "stdout",
          "text": [
            "--2024-05-29 18:31:08--  https://cf-courses-data.s3.us.cloud-object-storage.appdomain.cloud/IBM-ML240EN-SkillsNetwork/labs/data/boston_housing_clean.pickle\n",
            "Resolving cf-courses-data.s3.us.cloud-object-storage.appdomain.cloud (cf-courses-data.s3.us.cloud-object-storage.appdomain.cloud)... 198.23.119.245\n",
            "Connecting to cf-courses-data.s3.us.cloud-object-storage.appdomain.cloud (cf-courses-data.s3.us.cloud-object-storage.appdomain.cloud)|198.23.119.245|:443... connected.\n",
            "HTTP request sent, awaiting response... 200 OK\n",
            "Length: 60056 (59K) [binary/octet-stream]\n",
            "Saving to: ‘boston_housing_clean.pickle’\n",
            "\n",
            "boston_housing_clea 100%[===================>]  58.65K  --.-KB/s    in 0.06s   \n",
            "\n",
            "2024-05-29 18:31:08 (1001 KB/s) - ‘boston_housing_clean.pickle’ saved [60056/60056]\n",
            "\n"
          ]
        }
      ]
    },
    {
      "cell_type": "markdown",
      "source": [
        "* **Loading Data:**"
      ],
      "metadata": {
        "id": "EadiZlM6vZ3o"
      }
    },
    {
      "cell_type": "code",
      "source": [
        "with open('boston_housing_clean.pickle', 'rb') as to_read:\n",
        "    boston = pd.read_pickle(to_read)\n",
        "boston_data = boston['dataframe']\n",
        "boston_description = boston['description']\n"
      ],
      "metadata": {
        "id": "kGPCrio7um5J"
      },
      "execution_count": 10,
      "outputs": []
    },
    {
      "cell_type": "code",
      "source": [
        "boston_data.head(15)"
      ],
      "metadata": {
        "colab": {
          "base_uri": "https://localhost:8080/",
          "height": 540
        },
        "id": "Ptig48O4ueuP",
        "outputId": "4041b6a8-7a61-4587-9247-8ea8f2408cdf"
      },
      "execution_count": 11,
      "outputs": [
        {
          "output_type": "execute_result",
          "data": {
            "text/plain": [
              "       CRIM    ZN  INDUS  CHAS    NOX     RM    AGE     DIS  RAD    TAX  \\\n",
              "0   0.00632  18.0   2.31   0.0  0.538  6.575   65.2  4.0900  1.0  296.0   \n",
              "1   0.02731   0.0   7.07   0.0  0.469  6.421   78.9  4.9671  2.0  242.0   \n",
              "2   0.02729   0.0   7.07   0.0  0.469  7.185   61.1  4.9671  2.0  242.0   \n",
              "3   0.03237   0.0   2.18   0.0  0.458  6.998   45.8  6.0622  3.0  222.0   \n",
              "4   0.06905   0.0   2.18   0.0  0.458  7.147   54.2  6.0622  3.0  222.0   \n",
              "5   0.02985   0.0   2.18   0.0  0.458  6.430   58.7  6.0622  3.0  222.0   \n",
              "6   0.08829  12.5   7.87   0.0  0.524  6.012   66.6  5.5605  5.0  311.0   \n",
              "7   0.14455  12.5   7.87   0.0  0.524  6.172   96.1  5.9505  5.0  311.0   \n",
              "8   0.21124  12.5   7.87   0.0  0.524  5.631  100.0  6.0821  5.0  311.0   \n",
              "9   0.17004  12.5   7.87   0.0  0.524  6.004   85.9  6.5921  5.0  311.0   \n",
              "10  0.22489  12.5   7.87   0.0  0.524  6.377   94.3  6.3467  5.0  311.0   \n",
              "11  0.11747  12.5   7.87   0.0  0.524  6.009   82.9  6.2267  5.0  311.0   \n",
              "12  0.09378  12.5   7.87   0.0  0.524  5.889   39.0  5.4509  5.0  311.0   \n",
              "13  0.62976   0.0   8.14   0.0  0.538  5.949   61.8  4.7075  4.0  307.0   \n",
              "14  0.63796   0.0   8.14   0.0  0.538  6.096   84.5  4.4619  4.0  307.0   \n",
              "\n",
              "    PTRATIO       B  LSTAT  MEDV  \n",
              "0      15.3  396.90   4.98  24.0  \n",
              "1      17.8  396.90   9.14  21.6  \n",
              "2      17.8  392.83   4.03  34.7  \n",
              "3      18.7  394.63   2.94  33.4  \n",
              "4      18.7  396.90   5.33  36.2  \n",
              "5      18.7  394.12   5.21  28.7  \n",
              "6      15.2  395.60  12.43  22.9  \n",
              "7      15.2  396.90  19.15  27.1  \n",
              "8      15.2  386.63  29.93  16.5  \n",
              "9      15.2  386.71  17.10  18.9  \n",
              "10     15.2  392.52  20.45  15.0  \n",
              "11     15.2  396.90  13.27  18.9  \n",
              "12     15.2  390.50  15.71  21.7  \n",
              "13     21.0  396.90   8.26  20.4  \n",
              "14     21.0  380.02  10.26  18.2  "
            ],
            "text/html": [
              "\n",
              "  <div id=\"df-33ab3b59-17e1-422b-be62-4414710f2d1d\" class=\"colab-df-container\">\n",
              "    <div>\n",
              "<style scoped>\n",
              "    .dataframe tbody tr th:only-of-type {\n",
              "        vertical-align: middle;\n",
              "    }\n",
              "\n",
              "    .dataframe tbody tr th {\n",
              "        vertical-align: top;\n",
              "    }\n",
              "\n",
              "    .dataframe thead th {\n",
              "        text-align: right;\n",
              "    }\n",
              "</style>\n",
              "<table border=\"1\" class=\"dataframe\">\n",
              "  <thead>\n",
              "    <tr style=\"text-align: right;\">\n",
              "      <th></th>\n",
              "      <th>CRIM</th>\n",
              "      <th>ZN</th>\n",
              "      <th>INDUS</th>\n",
              "      <th>CHAS</th>\n",
              "      <th>NOX</th>\n",
              "      <th>RM</th>\n",
              "      <th>AGE</th>\n",
              "      <th>DIS</th>\n",
              "      <th>RAD</th>\n",
              "      <th>TAX</th>\n",
              "      <th>PTRATIO</th>\n",
              "      <th>B</th>\n",
              "      <th>LSTAT</th>\n",
              "      <th>MEDV</th>\n",
              "    </tr>\n",
              "  </thead>\n",
              "  <tbody>\n",
              "    <tr>\n",
              "      <th>0</th>\n",
              "      <td>0.00632</td>\n",
              "      <td>18.0</td>\n",
              "      <td>2.31</td>\n",
              "      <td>0.0</td>\n",
              "      <td>0.538</td>\n",
              "      <td>6.575</td>\n",
              "      <td>65.2</td>\n",
              "      <td>4.0900</td>\n",
              "      <td>1.0</td>\n",
              "      <td>296.0</td>\n",
              "      <td>15.3</td>\n",
              "      <td>396.90</td>\n",
              "      <td>4.98</td>\n",
              "      <td>24.0</td>\n",
              "    </tr>\n",
              "    <tr>\n",
              "      <th>1</th>\n",
              "      <td>0.02731</td>\n",
              "      <td>0.0</td>\n",
              "      <td>7.07</td>\n",
              "      <td>0.0</td>\n",
              "      <td>0.469</td>\n",
              "      <td>6.421</td>\n",
              "      <td>78.9</td>\n",
              "      <td>4.9671</td>\n",
              "      <td>2.0</td>\n",
              "      <td>242.0</td>\n",
              "      <td>17.8</td>\n",
              "      <td>396.90</td>\n",
              "      <td>9.14</td>\n",
              "      <td>21.6</td>\n",
              "    </tr>\n",
              "    <tr>\n",
              "      <th>2</th>\n",
              "      <td>0.02729</td>\n",
              "      <td>0.0</td>\n",
              "      <td>7.07</td>\n",
              "      <td>0.0</td>\n",
              "      <td>0.469</td>\n",
              "      <td>7.185</td>\n",
              "      <td>61.1</td>\n",
              "      <td>4.9671</td>\n",
              "      <td>2.0</td>\n",
              "      <td>242.0</td>\n",
              "      <td>17.8</td>\n",
              "      <td>392.83</td>\n",
              "      <td>4.03</td>\n",
              "      <td>34.7</td>\n",
              "    </tr>\n",
              "    <tr>\n",
              "      <th>3</th>\n",
              "      <td>0.03237</td>\n",
              "      <td>0.0</td>\n",
              "      <td>2.18</td>\n",
              "      <td>0.0</td>\n",
              "      <td>0.458</td>\n",
              "      <td>6.998</td>\n",
              "      <td>45.8</td>\n",
              "      <td>6.0622</td>\n",
              "      <td>3.0</td>\n",
              "      <td>222.0</td>\n",
              "      <td>18.7</td>\n",
              "      <td>394.63</td>\n",
              "      <td>2.94</td>\n",
              "      <td>33.4</td>\n",
              "    </tr>\n",
              "    <tr>\n",
              "      <th>4</th>\n",
              "      <td>0.06905</td>\n",
              "      <td>0.0</td>\n",
              "      <td>2.18</td>\n",
              "      <td>0.0</td>\n",
              "      <td>0.458</td>\n",
              "      <td>7.147</td>\n",
              "      <td>54.2</td>\n",
              "      <td>6.0622</td>\n",
              "      <td>3.0</td>\n",
              "      <td>222.0</td>\n",
              "      <td>18.7</td>\n",
              "      <td>396.90</td>\n",
              "      <td>5.33</td>\n",
              "      <td>36.2</td>\n",
              "    </tr>\n",
              "    <tr>\n",
              "      <th>5</th>\n",
              "      <td>0.02985</td>\n",
              "      <td>0.0</td>\n",
              "      <td>2.18</td>\n",
              "      <td>0.0</td>\n",
              "      <td>0.458</td>\n",
              "      <td>6.430</td>\n",
              "      <td>58.7</td>\n",
              "      <td>6.0622</td>\n",
              "      <td>3.0</td>\n",
              "      <td>222.0</td>\n",
              "      <td>18.7</td>\n",
              "      <td>394.12</td>\n",
              "      <td>5.21</td>\n",
              "      <td>28.7</td>\n",
              "    </tr>\n",
              "    <tr>\n",
              "      <th>6</th>\n",
              "      <td>0.08829</td>\n",
              "      <td>12.5</td>\n",
              "      <td>7.87</td>\n",
              "      <td>0.0</td>\n",
              "      <td>0.524</td>\n",
              "      <td>6.012</td>\n",
              "      <td>66.6</td>\n",
              "      <td>5.5605</td>\n",
              "      <td>5.0</td>\n",
              "      <td>311.0</td>\n",
              "      <td>15.2</td>\n",
              "      <td>395.60</td>\n",
              "      <td>12.43</td>\n",
              "      <td>22.9</td>\n",
              "    </tr>\n",
              "    <tr>\n",
              "      <th>7</th>\n",
              "      <td>0.14455</td>\n",
              "      <td>12.5</td>\n",
              "      <td>7.87</td>\n",
              "      <td>0.0</td>\n",
              "      <td>0.524</td>\n",
              "      <td>6.172</td>\n",
              "      <td>96.1</td>\n",
              "      <td>5.9505</td>\n",
              "      <td>5.0</td>\n",
              "      <td>311.0</td>\n",
              "      <td>15.2</td>\n",
              "      <td>396.90</td>\n",
              "      <td>19.15</td>\n",
              "      <td>27.1</td>\n",
              "    </tr>\n",
              "    <tr>\n",
              "      <th>8</th>\n",
              "      <td>0.21124</td>\n",
              "      <td>12.5</td>\n",
              "      <td>7.87</td>\n",
              "      <td>0.0</td>\n",
              "      <td>0.524</td>\n",
              "      <td>5.631</td>\n",
              "      <td>100.0</td>\n",
              "      <td>6.0821</td>\n",
              "      <td>5.0</td>\n",
              "      <td>311.0</td>\n",
              "      <td>15.2</td>\n",
              "      <td>386.63</td>\n",
              "      <td>29.93</td>\n",
              "      <td>16.5</td>\n",
              "    </tr>\n",
              "    <tr>\n",
              "      <th>9</th>\n",
              "      <td>0.17004</td>\n",
              "      <td>12.5</td>\n",
              "      <td>7.87</td>\n",
              "      <td>0.0</td>\n",
              "      <td>0.524</td>\n",
              "      <td>6.004</td>\n",
              "      <td>85.9</td>\n",
              "      <td>6.5921</td>\n",
              "      <td>5.0</td>\n",
              "      <td>311.0</td>\n",
              "      <td>15.2</td>\n",
              "      <td>386.71</td>\n",
              "      <td>17.10</td>\n",
              "      <td>18.9</td>\n",
              "    </tr>\n",
              "    <tr>\n",
              "      <th>10</th>\n",
              "      <td>0.22489</td>\n",
              "      <td>12.5</td>\n",
              "      <td>7.87</td>\n",
              "      <td>0.0</td>\n",
              "      <td>0.524</td>\n",
              "      <td>6.377</td>\n",
              "      <td>94.3</td>\n",
              "      <td>6.3467</td>\n",
              "      <td>5.0</td>\n",
              "      <td>311.0</td>\n",
              "      <td>15.2</td>\n",
              "      <td>392.52</td>\n",
              "      <td>20.45</td>\n",
              "      <td>15.0</td>\n",
              "    </tr>\n",
              "    <tr>\n",
              "      <th>11</th>\n",
              "      <td>0.11747</td>\n",
              "      <td>12.5</td>\n",
              "      <td>7.87</td>\n",
              "      <td>0.0</td>\n",
              "      <td>0.524</td>\n",
              "      <td>6.009</td>\n",
              "      <td>82.9</td>\n",
              "      <td>6.2267</td>\n",
              "      <td>5.0</td>\n",
              "      <td>311.0</td>\n",
              "      <td>15.2</td>\n",
              "      <td>396.90</td>\n",
              "      <td>13.27</td>\n",
              "      <td>18.9</td>\n",
              "    </tr>\n",
              "    <tr>\n",
              "      <th>12</th>\n",
              "      <td>0.09378</td>\n",
              "      <td>12.5</td>\n",
              "      <td>7.87</td>\n",
              "      <td>0.0</td>\n",
              "      <td>0.524</td>\n",
              "      <td>5.889</td>\n",
              "      <td>39.0</td>\n",
              "      <td>5.4509</td>\n",
              "      <td>5.0</td>\n",
              "      <td>311.0</td>\n",
              "      <td>15.2</td>\n",
              "      <td>390.50</td>\n",
              "      <td>15.71</td>\n",
              "      <td>21.7</td>\n",
              "    </tr>\n",
              "    <tr>\n",
              "      <th>13</th>\n",
              "      <td>0.62976</td>\n",
              "      <td>0.0</td>\n",
              "      <td>8.14</td>\n",
              "      <td>0.0</td>\n",
              "      <td>0.538</td>\n",
              "      <td>5.949</td>\n",
              "      <td>61.8</td>\n",
              "      <td>4.7075</td>\n",
              "      <td>4.0</td>\n",
              "      <td>307.0</td>\n",
              "      <td>21.0</td>\n",
              "      <td>396.90</td>\n",
              "      <td>8.26</td>\n",
              "      <td>20.4</td>\n",
              "    </tr>\n",
              "    <tr>\n",
              "      <th>14</th>\n",
              "      <td>0.63796</td>\n",
              "      <td>0.0</td>\n",
              "      <td>8.14</td>\n",
              "      <td>0.0</td>\n",
              "      <td>0.538</td>\n",
              "      <td>6.096</td>\n",
              "      <td>84.5</td>\n",
              "      <td>4.4619</td>\n",
              "      <td>4.0</td>\n",
              "      <td>307.0</td>\n",
              "      <td>21.0</td>\n",
              "      <td>380.02</td>\n",
              "      <td>10.26</td>\n",
              "      <td>18.2</td>\n",
              "    </tr>\n",
              "  </tbody>\n",
              "</table>\n",
              "</div>\n",
              "    <div class=\"colab-df-buttons\">\n",
              "\n",
              "  <div class=\"colab-df-container\">\n",
              "    <button class=\"colab-df-convert\" onclick=\"convertToInteractive('df-33ab3b59-17e1-422b-be62-4414710f2d1d')\"\n",
              "            title=\"Convert this dataframe to an interactive table.\"\n",
              "            style=\"display:none;\">\n",
              "\n",
              "  <svg xmlns=\"http://www.w3.org/2000/svg\" height=\"24px\" viewBox=\"0 -960 960 960\">\n",
              "    <path d=\"M120-120v-720h720v720H120Zm60-500h600v-160H180v160Zm220 220h160v-160H400v160Zm0 220h160v-160H400v160ZM180-400h160v-160H180v160Zm440 0h160v-160H620v160ZM180-180h160v-160H180v160Zm440 0h160v-160H620v160Z\"/>\n",
              "  </svg>\n",
              "    </button>\n",
              "\n",
              "  <style>\n",
              "    .colab-df-container {\n",
              "      display:flex;\n",
              "      gap: 12px;\n",
              "    }\n",
              "\n",
              "    .colab-df-convert {\n",
              "      background-color: #E8F0FE;\n",
              "      border: none;\n",
              "      border-radius: 50%;\n",
              "      cursor: pointer;\n",
              "      display: none;\n",
              "      fill: #1967D2;\n",
              "      height: 32px;\n",
              "      padding: 0 0 0 0;\n",
              "      width: 32px;\n",
              "    }\n",
              "\n",
              "    .colab-df-convert:hover {\n",
              "      background-color: #E2EBFA;\n",
              "      box-shadow: 0px 1px 2px rgba(60, 64, 67, 0.3), 0px 1px 3px 1px rgba(60, 64, 67, 0.15);\n",
              "      fill: #174EA6;\n",
              "    }\n",
              "\n",
              "    .colab-df-buttons div {\n",
              "      margin-bottom: 4px;\n",
              "    }\n",
              "\n",
              "    [theme=dark] .colab-df-convert {\n",
              "      background-color: #3B4455;\n",
              "      fill: #D2E3FC;\n",
              "    }\n",
              "\n",
              "    [theme=dark] .colab-df-convert:hover {\n",
              "      background-color: #434B5C;\n",
              "      box-shadow: 0px 1px 3px 1px rgba(0, 0, 0, 0.15);\n",
              "      filter: drop-shadow(0px 1px 2px rgba(0, 0, 0, 0.3));\n",
              "      fill: #FFFFFF;\n",
              "    }\n",
              "  </style>\n",
              "\n",
              "    <script>\n",
              "      const buttonEl =\n",
              "        document.querySelector('#df-33ab3b59-17e1-422b-be62-4414710f2d1d button.colab-df-convert');\n",
              "      buttonEl.style.display =\n",
              "        google.colab.kernel.accessAllowed ? 'block' : 'none';\n",
              "\n",
              "      async function convertToInteractive(key) {\n",
              "        const element = document.querySelector('#df-33ab3b59-17e1-422b-be62-4414710f2d1d');\n",
              "        const dataTable =\n",
              "          await google.colab.kernel.invokeFunction('convertToInteractive',\n",
              "                                                    [key], {});\n",
              "        if (!dataTable) return;\n",
              "\n",
              "        const docLinkHtml = 'Like what you see? Visit the ' +\n",
              "          '<a target=\"_blank\" href=https://colab.research.google.com/notebooks/data_table.ipynb>data table notebook</a>'\n",
              "          + ' to learn more about interactive tables.';\n",
              "        element.innerHTML = '';\n",
              "        dataTable['output_type'] = 'display_data';\n",
              "        await google.colab.output.renderOutput(dataTable, element);\n",
              "        const docLink = document.createElement('div');\n",
              "        docLink.innerHTML = docLinkHtml;\n",
              "        element.appendChild(docLink);\n",
              "      }\n",
              "    </script>\n",
              "  </div>\n",
              "\n",
              "\n",
              "<div id=\"df-daee3ce3-3d16-4925-8d12-90b56365202b\">\n",
              "  <button class=\"colab-df-quickchart\" onclick=\"quickchart('df-daee3ce3-3d16-4925-8d12-90b56365202b')\"\n",
              "            title=\"Suggest charts\"\n",
              "            style=\"display:none;\">\n",
              "\n",
              "<svg xmlns=\"http://www.w3.org/2000/svg\" height=\"24px\"viewBox=\"0 0 24 24\"\n",
              "     width=\"24px\">\n",
              "    <g>\n",
              "        <path d=\"M19 3H5c-1.1 0-2 .9-2 2v14c0 1.1.9 2 2 2h14c1.1 0 2-.9 2-2V5c0-1.1-.9-2-2-2zM9 17H7v-7h2v7zm4 0h-2V7h2v10zm4 0h-2v-4h2v4z\"/>\n",
              "    </g>\n",
              "</svg>\n",
              "  </button>\n",
              "\n",
              "<style>\n",
              "  .colab-df-quickchart {\n",
              "      --bg-color: #E8F0FE;\n",
              "      --fill-color: #1967D2;\n",
              "      --hover-bg-color: #E2EBFA;\n",
              "      --hover-fill-color: #174EA6;\n",
              "      --disabled-fill-color: #AAA;\n",
              "      --disabled-bg-color: #DDD;\n",
              "  }\n",
              "\n",
              "  [theme=dark] .colab-df-quickchart {\n",
              "      --bg-color: #3B4455;\n",
              "      --fill-color: #D2E3FC;\n",
              "      --hover-bg-color: #434B5C;\n",
              "      --hover-fill-color: #FFFFFF;\n",
              "      --disabled-bg-color: #3B4455;\n",
              "      --disabled-fill-color: #666;\n",
              "  }\n",
              "\n",
              "  .colab-df-quickchart {\n",
              "    background-color: var(--bg-color);\n",
              "    border: none;\n",
              "    border-radius: 50%;\n",
              "    cursor: pointer;\n",
              "    display: none;\n",
              "    fill: var(--fill-color);\n",
              "    height: 32px;\n",
              "    padding: 0;\n",
              "    width: 32px;\n",
              "  }\n",
              "\n",
              "  .colab-df-quickchart:hover {\n",
              "    background-color: var(--hover-bg-color);\n",
              "    box-shadow: 0 1px 2px rgba(60, 64, 67, 0.3), 0 1px 3px 1px rgba(60, 64, 67, 0.15);\n",
              "    fill: var(--button-hover-fill-color);\n",
              "  }\n",
              "\n",
              "  .colab-df-quickchart-complete:disabled,\n",
              "  .colab-df-quickchart-complete:disabled:hover {\n",
              "    background-color: var(--disabled-bg-color);\n",
              "    fill: var(--disabled-fill-color);\n",
              "    box-shadow: none;\n",
              "  }\n",
              "\n",
              "  .colab-df-spinner {\n",
              "    border: 2px solid var(--fill-color);\n",
              "    border-color: transparent;\n",
              "    border-bottom-color: var(--fill-color);\n",
              "    animation:\n",
              "      spin 1s steps(1) infinite;\n",
              "  }\n",
              "\n",
              "  @keyframes spin {\n",
              "    0% {\n",
              "      border-color: transparent;\n",
              "      border-bottom-color: var(--fill-color);\n",
              "      border-left-color: var(--fill-color);\n",
              "    }\n",
              "    20% {\n",
              "      border-color: transparent;\n",
              "      border-left-color: var(--fill-color);\n",
              "      border-top-color: var(--fill-color);\n",
              "    }\n",
              "    30% {\n",
              "      border-color: transparent;\n",
              "      border-left-color: var(--fill-color);\n",
              "      border-top-color: var(--fill-color);\n",
              "      border-right-color: var(--fill-color);\n",
              "    }\n",
              "    40% {\n",
              "      border-color: transparent;\n",
              "      border-right-color: var(--fill-color);\n",
              "      border-top-color: var(--fill-color);\n",
              "    }\n",
              "    60% {\n",
              "      border-color: transparent;\n",
              "      border-right-color: var(--fill-color);\n",
              "    }\n",
              "    80% {\n",
              "      border-color: transparent;\n",
              "      border-right-color: var(--fill-color);\n",
              "      border-bottom-color: var(--fill-color);\n",
              "    }\n",
              "    90% {\n",
              "      border-color: transparent;\n",
              "      border-bottom-color: var(--fill-color);\n",
              "    }\n",
              "  }\n",
              "</style>\n",
              "\n",
              "  <script>\n",
              "    async function quickchart(key) {\n",
              "      const quickchartButtonEl =\n",
              "        document.querySelector('#' + key + ' button');\n",
              "      quickchartButtonEl.disabled = true;  // To prevent multiple clicks.\n",
              "      quickchartButtonEl.classList.add('colab-df-spinner');\n",
              "      try {\n",
              "        const charts = await google.colab.kernel.invokeFunction(\n",
              "            'suggestCharts', [key], {});\n",
              "      } catch (error) {\n",
              "        console.error('Error during call to suggestCharts:', error);\n",
              "      }\n",
              "      quickchartButtonEl.classList.remove('colab-df-spinner');\n",
              "      quickchartButtonEl.classList.add('colab-df-quickchart-complete');\n",
              "    }\n",
              "    (() => {\n",
              "      let quickchartButtonEl =\n",
              "        document.querySelector('#df-daee3ce3-3d16-4925-8d12-90b56365202b button');\n",
              "      quickchartButtonEl.style.display =\n",
              "        google.colab.kernel.accessAllowed ? 'block' : 'none';\n",
              "    })();\n",
              "  </script>\n",
              "</div>\n",
              "\n",
              "    </div>\n",
              "  </div>\n"
            ],
            "application/vnd.google.colaboratory.intrinsic+json": {
              "type": "dataframe",
              "variable_name": "boston_data",
              "summary": "{\n  \"name\": \"boston_data\",\n  \"rows\": 506,\n  \"fields\": [\n    {\n      \"column\": \"CRIM\",\n      \"properties\": {\n        \"dtype\": \"number\",\n        \"std\": 8.596782593323319,\n        \"min\": 0.00632,\n        \"max\": 88.9762,\n        \"num_unique_values\": 504,\n        \"samples\": [\n          0.09178,\n          0.05644,\n          0.10574\n        ],\n        \"semantic_type\": \"\",\n        \"description\": \"\"\n      }\n    },\n    {\n      \"column\": \"ZN\",\n      \"properties\": {\n        \"dtype\": \"number\",\n        \"std\": 23.32245299451514,\n        \"min\": 0.0,\n        \"max\": 100.0,\n        \"num_unique_values\": 26,\n        \"samples\": [\n          25.0,\n          30.0,\n          18.0\n        ],\n        \"semantic_type\": \"\",\n        \"description\": \"\"\n      }\n    },\n    {\n      \"column\": \"INDUS\",\n      \"properties\": {\n        \"dtype\": \"number\",\n        \"std\": 6.860352940897585,\n        \"min\": 0.46,\n        \"max\": 27.74,\n        \"num_unique_values\": 76,\n        \"samples\": [\n          8.14,\n          1.47,\n          1.22\n        ],\n        \"semantic_type\": \"\",\n        \"description\": \"\"\n      }\n    },\n    {\n      \"column\": \"CHAS\",\n      \"properties\": {\n        \"dtype\": \"number\",\n        \"std\": 0.25399404134041037,\n        \"min\": 0.0,\n        \"max\": 1.0,\n        \"num_unique_values\": 2,\n        \"samples\": [\n          1.0,\n          0.0\n        ],\n        \"semantic_type\": \"\",\n        \"description\": \"\"\n      }\n    },\n    {\n      \"column\": \"NOX\",\n      \"properties\": {\n        \"dtype\": \"number\",\n        \"std\": 0.11587767566755595,\n        \"min\": 0.385,\n        \"max\": 0.871,\n        \"num_unique_values\": 81,\n        \"samples\": [\n          0.401,\n          0.538\n        ],\n        \"semantic_type\": \"\",\n        \"description\": \"\"\n      }\n    },\n    {\n      \"column\": \"RM\",\n      \"properties\": {\n        \"dtype\": \"number\",\n        \"std\": 0.7026171434153233,\n        \"min\": 3.561,\n        \"max\": 8.78,\n        \"num_unique_values\": 446,\n        \"samples\": [\n          6.849,\n          4.88\n        ],\n        \"semantic_type\": \"\",\n        \"description\": \"\"\n      }\n    },\n    {\n      \"column\": \"AGE\",\n      \"properties\": {\n        \"dtype\": \"number\",\n        \"std\": 28.148861406903617,\n        \"min\": 2.9,\n        \"max\": 100.0,\n        \"num_unique_values\": 356,\n        \"samples\": [\n          51.8,\n          33.8\n        ],\n        \"semantic_type\": \"\",\n        \"description\": \"\"\n      }\n    },\n    {\n      \"column\": \"DIS\",\n      \"properties\": {\n        \"dtype\": \"number\",\n        \"std\": 2.105710126627611,\n        \"min\": 1.1296,\n        \"max\": 12.1265,\n        \"num_unique_values\": 412,\n        \"samples\": [\n          2.2955,\n          4.2515\n        ],\n        \"semantic_type\": \"\",\n        \"description\": \"\"\n      }\n    },\n    {\n      \"column\": \"RAD\",\n      \"properties\": {\n        \"dtype\": \"number\",\n        \"std\": 8.707259384239366,\n        \"min\": 1.0,\n        \"max\": 24.0,\n        \"num_unique_values\": 9,\n        \"samples\": [\n          7.0,\n          2.0\n        ],\n        \"semantic_type\": \"\",\n        \"description\": \"\"\n      }\n    },\n    {\n      \"column\": \"TAX\",\n      \"properties\": {\n        \"dtype\": \"number\",\n        \"std\": 168.53711605495903,\n        \"min\": 187.0,\n        \"max\": 711.0,\n        \"num_unique_values\": 66,\n        \"samples\": [\n          370.0,\n          666.0\n        ],\n        \"semantic_type\": \"\",\n        \"description\": \"\"\n      }\n    },\n    {\n      \"column\": \"PTRATIO\",\n      \"properties\": {\n        \"dtype\": \"number\",\n        \"std\": 2.1649455237144406,\n        \"min\": 12.6,\n        \"max\": 22.0,\n        \"num_unique_values\": 46,\n        \"samples\": [\n          19.6,\n          15.6\n        ],\n        \"semantic_type\": \"\",\n        \"description\": \"\"\n      }\n    },\n    {\n      \"column\": \"B\",\n      \"properties\": {\n        \"dtype\": \"number\",\n        \"std\": 91.29486438415783,\n        \"min\": 0.32,\n        \"max\": 396.9,\n        \"num_unique_values\": 357,\n        \"samples\": [\n          396.24,\n          395.11\n        ],\n        \"semantic_type\": \"\",\n        \"description\": \"\"\n      }\n    },\n    {\n      \"column\": \"LSTAT\",\n      \"properties\": {\n        \"dtype\": \"number\",\n        \"std\": 7.141061511348571,\n        \"min\": 1.73,\n        \"max\": 37.97,\n        \"num_unique_values\": 455,\n        \"samples\": [\n          6.15,\n          4.32\n        ],\n        \"semantic_type\": \"\",\n        \"description\": \"\"\n      }\n    },\n    {\n      \"column\": \"MEDV\",\n      \"properties\": {\n        \"dtype\": \"number\",\n        \"std\": 9.197104087379818,\n        \"min\": 5.0,\n        \"max\": 50.0,\n        \"num_unique_values\": 229,\n        \"samples\": [\n          14.1,\n          22.5\n        ],\n        \"semantic_type\": \"\",\n        \"description\": \"\"\n      }\n    }\n  ]\n}"
            }
          },
          "metadata": {},
          "execution_count": 11
        }
      ]
    },
    {
      "cell_type": "markdown",
      "source": [
        "## Determining  Normality\n",
        "\n",
        "> Determine if data is normally distributed visually and through statistical test\n",
        "\n",
        "> If data is normally distributed we can apply transformations to make it normally distributed"
      ],
      "metadata": {
        "id": "UzmL2eIqvuGk"
      }
    },
    {
      "cell_type": "markdown",
      "source": [
        "#### Using a Visual approach\n"
      ],
      "metadata": {
        "id": "sZDNT9hSwUEr"
      }
    },
    {
      "cell_type": "markdown",
      "source": [
        "#### Plotting a histogram:"
      ],
      "metadata": {
        "id": "UVS0gpQ0wXer"
      }
    },
    {
      "cell_type": "code",
      "source": [
        "boston_data.MEDV.hist();"
      ],
      "metadata": {
        "colab": {
          "base_uri": "https://localhost:8080/",
          "height": 431
        },
        "id": "tz1wdMX2wOI9",
        "outputId": "129bfa6d-e2d7-4379-c13e-de8585130828"
      },
      "execution_count": 9,
      "outputs": [
        {
          "output_type": "display_data",
          "data": {
            "text/plain": [
              "<Figure size 640x480 with 1 Axes>"
            ],
            "image/png": "[encoded data removed]"
          },
          "metadata": {}
        }
      ]
    },
    {
      "cell_type": "markdown",
      "source": [
        "The histogram does not look normal due to its right tail.\n"
      ],
      "metadata": {
        "id": "8bW71-82xgG2"
      }
    },
    {
      "cell_type": "markdown",
      "source": [
        "#### Using a Statistical Test\n",
        "\n",
        "* This test outputs a **p-value**. The _higher_ this p-value is the _closer_ the distribution is to normal.\n",
        "    * Frequentist approach accept that the distribution is normal (more specifically: fail to reject the null hypothesis that it is normal) if p > 0.05."
      ],
      "metadata": {
        "id": "WF8DrGJmwnCw"
      }
    },
    {
      "cell_type": "code",
      "source": [
        "from scipy.stats.mstats import normaltest"
      ],
      "metadata": {
        "id": "1SjCTGo0xJnA"
      },
      "execution_count": 13,
      "outputs": []
    },
    {
      "cell_type": "code",
      "source": [
        "normaltest(boston_data.MEDV.values)"
      ],
      "metadata": {
        "colab": {
          "base_uri": "https://localhost:8080/"
        },
        "id": "hB5c66phxixJ",
        "outputId": "c56d71e3-06cf-42d4-e16c-e6342927a066"
      },
      "execution_count": 14,
      "outputs": [
        {
          "output_type": "execute_result",
          "data": {
            "text/plain": [
              "NormaltestResult(statistic=90.9746873700967, pvalue=1.7583188871696095e-20)"
            ]
          },
          "metadata": {},
          "execution_count": 14
        }
      ]
    },
    {
      "cell_type": "markdown",
      "source": [
        "> P value is really small and far from a normal distribution\n",
        "\n",
        "> Therefore reject null hypothesis i.e. it is a normal distribution"
      ],
      "metadata": {
        "id": "vHjdiiPdxx0L"
      }
    },
    {
      "cell_type": "markdown",
      "source": [
        "### Applying transformations to make target variable more normally distributed for Regression\n",
        "\n",
        "> Log : The log transformation can transform data that is significantly skewed right to be more normally distributed:\n",
        "\n",
        "> Square Root: The square root transformation is another transformation that can transform non-normally distributed data into normally distributed data:\n",
        "\n",
        "> Box Cox: The box cox transformation is a parametrized transformation that tries to get distributions \"as close to a normal distribution as possible\".\n",
        "\n",
        "> It is defined as:\n",
        "\n",
        "**$$ \\text{boxcox}(y_i) = \\frac{y_i^{\\lambda} - 1}{\\lambda} $$**\n",
        "\n",
        "> This is like a generalization of the square root function: the square root function uses the exponent of 0.5, but box cox lets its exponent vary so it can find the best one.\n"
      ],
      "metadata": {
        "id": "vYiupUV3yhR9"
      }
    },
    {
      "cell_type": "markdown",
      "source": [
        "### Log Transformation\n"
      ],
      "metadata": {
        "id": "RoIhCjpo0E93"
      }
    },
    {
      "cell_type": "code",
      "source": [
        "data = plot_exponential_data()"
      ],
      "metadata": {
        "colab": {
          "base_uri": "https://localhost:8080/",
          "height": 430
        },
        "id": "cjwnzpGH0I5s",
        "outputId": "78ef5fe3-70cb-46a6-df48-df372217adcb"
      },
      "execution_count": 15,
      "outputs": [
        {
          "output_type": "display_data",
          "data": {
            "text/plain": [
              "<Figure size 640x480 with 1 Axes>"
            ],
            "image/png": "[encoded data removed]"
          },
          "metadata": {}
        }
      ]
    },
    {
      "cell_type": "code",
      "source": [
        "plt.hist(np.log(data));"
      ],
      "metadata": {
        "colab": {
          "base_uri": "https://localhost:8080/",
          "height": 430
        },
        "id": "kbJTea-10HBq",
        "outputId": "c48caac9-b173-49d8-c844-3dc20023a5e5"
      },
      "execution_count": 24,
      "outputs": [
        {
          "output_type": "display_data",
          "data": {
            "text/plain": [
              "<Figure size 640x480 with 1 Axes>"
            ],
            "image/png": "[encoded data removed]"
          },
          "metadata": {}
        }
      ]
    },
    {
      "cell_type": "markdown",
      "source": [
        "**Apply transformation to Boston Housing data:**\n"
      ],
      "metadata": {
        "id": "22zboEfi0HxB"
      }
    },
    {
      "cell_type": "code",
      "source": [
        "log_medv = np.log(boston_data.MEDV)"
      ],
      "metadata": {
        "id": "ZqkKIjvQ0i3K"
      },
      "execution_count": 16,
      "outputs": []
    },
    {
      "cell_type": "code",
      "source": [
        "log_medv.hist()"
      ],
      "metadata": {
        "colab": {
          "base_uri": "https://localhost:8080/",
          "height": 448
        },
        "id": "4MON0SER0pzk",
        "outputId": "13575e94-7fb7-4932-c7a0-19c53fa85ec4"
      },
      "execution_count": 17,
      "outputs": [
        {
          "output_type": "execute_result",
          "data": {
            "text/plain": [
              "<Axes: >"
            ]
          },
          "metadata": {},
          "execution_count": 17
        },
        {
          "output_type": "display_data",
          "data": {
            "text/plain": [
              "<Figure size 640x480 with 1 Axes>"
            ],
            "image/png": "[encoded data removed]"
          },
          "metadata": {}
        }
      ]
    },
    {
      "cell_type": "code",
      "source": [
        "normaltest(log_medv)"
      ],
      "metadata": {
        "colab": {
          "base_uri": "https://localhost:8080/"
        },
        "id": "H8qmf9Sv1pVs",
        "outputId": "d0189b29-2998-4c04-f08d-68b179aa1e67"
      },
      "execution_count": 27,
      "outputs": [
        {
          "output_type": "execute_result",
          "data": {
            "text/plain": [
              "NormaltestResult(statistic=17.21801696640698, pvalue=0.00018245472768345196)"
            ]
          },
          "metadata": {},
          "execution_count": 27
        }
      ]
    },
    {
      "cell_type": "markdown",
      "source": [
        "> Conclusion: The output is closer to normal distribution, but still not completely normal.\n",
        "\n",
        "> Still low p value so reject the null"
      ],
      "metadata": {
        "id": "dGXJ_PNn0Hs3"
      }
    },
    {
      "cell_type": "markdown",
      "source": [
        "### Square root Transformation\n"
      ],
      "metadata": {
        "id": "mgY3pNX93q-H"
      }
    },
    {
      "cell_type": "code",
      "source": [
        "data = plot_square_normal_data()"
      ],
      "metadata": {
        "colab": {
          "base_uri": "https://localhost:8080/",
          "height": 430
        },
        "id": "RoRjxaxf3tLO",
        "outputId": "ec4c273c-5102-4fa7-a46c-4692038af976"
      },
      "execution_count": 18,
      "outputs": [
        {
          "output_type": "display_data",
          "data": {
            "text/plain": [
              "<Figure size 640x480 with 1 Axes>"
            ],
            "image/png": "[encoded data removed]"
          },
          "metadata": {}
        }
      ]
    },
    {
      "cell_type": "markdown",
      "source": [
        "slightly right skewed"
      ],
      "metadata": {
        "id": "Nh0srEFU4eSQ"
      }
    },
    {
      "cell_type": "code",
      "source": [
        "plt.hist(np.sqrt(data));"
      ],
      "metadata": {
        "colab": {
          "base_uri": "https://localhost:8080/",
          "height": 430
        },
        "id": "8Ktu12o73y_5",
        "outputId": "736be9a0-7b2a-4cbc-d82a-0d53582c2101"
      },
      "execution_count": 19,
      "outputs": [
        {
          "output_type": "display_data",
          "data": {
            "text/plain": [
              "<Figure size 640x480 with 1 Axes>"
            ],
            "image/png": "[encoded data removed]"
          },
          "metadata": {}
        }
      ]
    },
    {
      "cell_type": "markdown",
      "source": [
        "* applying sqrt to our normal function"
      ],
      "metadata": {
        "id": "RJpwc7jk4jr1"
      }
    },
    {
      "cell_type": "code",
      "source": [
        "sqrt_medv = np.sqrt(boston_data.MEDV)\n",
        "plt.hist(sqrt_medv)"
      ],
      "metadata": {
        "colab": {
          "base_uri": "https://localhost:8080/",
          "height": 519
        },
        "id": "19eDJ0Ev5FIr",
        "outputId": "913ea304-4eed-45ec-f1c7-4a600538f546"
      },
      "execution_count": 20,
      "outputs": [
        {
          "output_type": "execute_result",
          "data": {
            "text/plain": [
              "(array([  9.,  18.,  40.,  67., 131., 121.,  48.,  36.,  10.,  26.]),\n",
              " array([2.23606798, 2.71956796, 3.20306794, 3.68656793, 4.17006791,\n",
              "        4.65356789, 5.13706788, 5.62056786, 6.10406784, 6.58756783,\n",
              "        7.07106781]),\n",
              " <BarContainer object of 10 artists>)"
            ]
          },
          "metadata": {},
          "execution_count": 20
        },
        {
          "output_type": "display_data",
          "data": {
            "text/plain": [
              "<Figure size 640x480 with 1 Axes>"
            ],
            "image/png": "[encoded data removed]"
          },
          "metadata": {}
        }
      ]
    },
    {
      "cell_type": "code",
      "source": [
        "#shortcut to sqrt boston data\n",
        "plt.hist(np.sqrt(boston_data.MEDV));"
      ],
      "metadata": {
        "colab": {
          "base_uri": "https://localhost:8080/",
          "height": 430
        },
        "id": "mvwiIJkJ4FZS",
        "outputId": "9670310a-427b-4034-b136-21a138ff1461"
      },
      "execution_count": 21,
      "outputs": [
        {
          "output_type": "display_data",
          "data": {
            "text/plain": [
              "<Figure size 640x480 with 1 Axes>"
            ],
            "image/png": "[encoded data removed]"
          },
          "metadata": {}
        }
      ]
    },
    {
      "cell_type": "code",
      "source": [
        "#doing normal test\n",
        "normaltest(sqrt_medv)"
      ],
      "metadata": {
        "colab": {
          "base_uri": "https://localhost:8080/"
        },
        "id": "OwG7Fn435WiQ",
        "outputId": "b7f79265-645d-4b20-a7e7-c7b2a465de26"
      },
      "execution_count": 22,
      "outputs": [
        {
          "output_type": "execute_result",
          "data": {
            "text/plain": [
              "NormaltestResult(statistic=20.487090826863067, pvalue=3.558645701429252e-05)"
            ]
          },
          "metadata": {},
          "execution_count": 22
        }
      ]
    },
    {
      "cell_type": "markdown",
      "source": [
        "> Still low p value, so we reject the null"
      ],
      "metadata": {
        "id": "vSqdXoBg5kWq"
      }
    },
    {
      "cell_type": "markdown",
      "source": [
        "### Box cox Transformation\n"
      ],
      "metadata": {
        "id": "iul67FPN5-19"
      }
    },
    {
      "cell_type": "code",
      "source": [
        "from scipy.stats import boxcox"
      ],
      "metadata": {
        "id": "0hpjog1IyD-t"
      },
      "execution_count": 23,
      "outputs": []
    },
    {
      "cell_type": "code",
      "source": [
        "#Gives two outputs [0] actual transformed arrar\n",
        "#[1] lambda parameter determines nature of transformation\n",
        "bc_result = boxcox(boston_data.MEDV)\n",
        "boxcox_medv = bc_result[0]\n",
        "lam = bc_result[1]"
      ],
      "metadata": {
        "collapsed": true,
        "id": "NUVw1uTVzO4K"
      },
      "execution_count": 24,
      "outputs": []
    },
    {
      "cell_type": "code",
      "source": [
        "#actual transformed array\n",
        "bc_result"
      ],
      "metadata": {
        "colab": {
          "base_uri": "https://localhost:8080/"
        },
        "id": "NrC7Hcue6d_9",
        "outputId": "af177c3e-3b7a-45c7-e704-af3ce5081bfb"
      },
      "execution_count": 25,
      "outputs": [
        {
          "output_type": "execute_result",
          "data": {
            "text/plain": [
              "(array([4.57293637, 4.36558166, 5.33694273, 5.25495447, 5.42860689,\n",
              "        4.93592663, 4.48001683, 4.81796329, 3.85654088, 4.10949441,\n",
              "        3.68340136, 4.10949441, 4.37457314, 4.25505556, 4.03844836,\n",
              "        4.20749535, 4.49716757, 3.96522837, 4.23614226, 4.03844836,\n",
              "        3.50909851, 4.17850811, 3.70724917, 3.62267296, 3.75421675,\n",
              "        3.54759408, 3.86763825, 3.65930314, 4.05896259, 4.31093716,\n",
              "        3.38947462, 3.62267296, 3.45672253, 3.44343457, 3.49611884,\n",
              "        4.10949441, 4.21708168, 4.31093716, 4.63034334, 5.08317362,\n",
              "        5.34934183, 4.77998166, 4.67854354, 4.63034334, 4.32928636,\n",
              "        4.14917118, 4.21708168, 3.86763825, 3.61033098, 4.15898961,\n",
              "        4.18820891, 4.26445779, 4.65455672, 4.52267685, 4.10949441,\n",
              "        5.3800978 , 4.63034334, 5.1372014 , 4.51420237, 4.17850811,\n",
              "        4.08940884, 3.80025017, 4.41904971, 4.65455672, 5.2292247 ,\n",
              "        4.53112301, 4.15898961, 4.40135419, 3.95458193, 4.30171118,\n",
              "        4.58947077, 4.37457314, 4.47139742, 4.52267685, 4.58121701,\n",
              "        4.34750044, 4.21708168, 4.29245055, 4.32928636, 4.24561716,\n",
              "        4.88496846, 4.56462866, 4.63843994, 4.48001683, 4.56462866,\n",
              "        4.77998166, 4.44536027, 4.41904971, 4.53954106, 4.93592663,\n",
              "        4.45406938, 4.40135419, 4.48001683, 4.65455672, 4.27382416,\n",
              "        4.91420798, 4.34750044, 5.57497399, 5.85196639, 5.24211994,\n",
              "        4.84795531, 4.77231832, 4.07930288, 4.14917118, 4.22663054,\n",
              "        4.16876846, 4.16876846, 4.25505556, 4.19787121, 4.15898961,\n",
              "        4.37457314, 4.47139742, 4.09947255, 4.08940884, 4.06915427,\n",
              "        4.04872743, 4.32928636, 4.13931283, 4.25505556, 4.14917118,\n",
              "        4.40135419, 4.24561716, 4.26445779, 3.94388745, 4.09947255,\n",
              "        4.34750044, 3.76581102, 3.82292958, 4.01775677, 3.59792167,\n",
              "        4.13931283, 4.17850811, 4.4886068 , 4.05896259, 3.75421675,\n",
              "        4.02812495, 3.95458193, 3.92235239, 3.46993187, 3.99688428,\n",
              "        3.56028128, 3.61033098, 3.48306363, 3.75421675, 3.2630138 ,\n",
              "        3.53483518, 3.75421675, 3.63494845, 3.99688428, 3.73085242,\n",
              "        4.35655752, 4.17850811, 3.71908101, 4.15898961, 3.91151078,\n",
              "        3.75421675, 3.44343457, 5.7195379 , 4.59769786, 4.51420237,\n",
              "        4.81041115, 6.15652607, 6.15652607, 6.15652607, 4.46274835,\n",
              "        4.65455672, 6.15652607, 4.55629368, 4.55629368, 4.42785068,\n",
              "        3.95458193, 4.12941417, 4.49716757, 4.53954106, 4.45406938,\n",
              "        4.98592025, 4.50569935, 4.62222102, 5.02106203, 5.48807609,\n",
              "        5.63703686, 5.42860689, 5.52896357, 5.19671664, 4.76463229,\n",
              "        5.00003273, 6.15652607, 5.16381441, 5.01407071, 5.34934183,\n",
              "        5.47628332, 5.06262961, 5.44060278, 5.10356146, 4.96460985,\n",
              "        6.15652607, 5.24854476, 5.0488455 , 5.33072218, 5.34934183,\n",
              "        5.22275411, 4.58121701, 5.77324341, 6.08567947, 6.15652607,\n",
              "        4.45406938, 4.60589847, 4.44536027, 4.60589847, 4.21708168,\n",
              "        4.37457314, 4.14917118, 4.43662078, 4.89230887, 4.54793121,\n",
              "        4.65455672, 4.51420237, 4.93592663, 4.35655752, 4.4886068 ,\n",
              "        4.78762246, 4.37457314, 4.84795531, 5.03498992, 5.90328261,\n",
              "        6.15652607, 5.51151342, 5.1372014 , 5.99836093, 5.13050694,\n",
              "        4.59769786, 5.14387928, 5.74114106, 6.07610405, 4.95746814,\n",
              "        4.57293637, 4.66257726, 5.13050694, 4.54793121, 4.51420237,\n",
              "        4.40135419, 4.22663054, 4.41904971, 4.54793121, 3.97582725,\n",
              "        4.06915427, 4.59769786, 4.26445779, 4.6140728 , 4.74919156,\n",
              "        4.60589847, 4.63843994, 5.00003273, 5.799724  , 4.39245914,\n",
              "        4.30171118, 5.86230253, 6.15652607, 5.41655897, 5.03498992,\n",
              "        5.28044397, 5.81549623, 6.09998476, 5.0967827 , 5.44658138,\n",
              "        4.47139742, 5.0763431 , 6.15652607, 5.83639265, 4.28315498,\n",
              "        4.32012879, 4.67057281, 4.60589847, 5.3678365 , 5.19016808,\n",
              "        5.16381441, 5.24211994, 5.23567995, 4.96460985, 5.36168538,\n",
              "        5.93364307, 5.3800978 , 5.96369082, 6.15652607, 5.1770233 ,\n",
              "        4.40135419, 4.22663054, 4.50569935, 4.42785068, 4.63843994,\n",
              "        4.92146742, 5.49395386, 4.87760749, 4.56462866, 4.37457314,\n",
              "        4.92870692, 4.81796329, 4.24561716, 4.44536027, 4.95746814,\n",
              "        4.63843994, 4.40135419, 4.76463229, 5.23567995, 5.42258947,\n",
              "        4.91420798, 5.25495447, 4.89962884, 4.47139742, 4.24561716,\n",
              "        3.81161746, 4.41021763, 4.15898961, 4.36558166, 4.55629368,\n",
              "        3.82292958, 3.99688428, 4.19787121, 4.49716757, 4.31093716,\n",
              "        4.55629368, 4.49716757, 4.25505556, 4.06915427, 4.65455672,\n",
              "        4.62222102, 4.4886068 , 4.41904971, 4.14917118, 4.45406938,\n",
              "        4.19787121, 3.92235239, 4.15898961, 4.41904971, 4.28315498,\n",
              "        4.32012879, 4.16876846, 4.06915427, 4.27382416, 4.11947482,\n",
              "        4.08940884, 5.20976657, 3.85654088, 4.56462866, 5.11032317,\n",
              "        3.96522837, 3.93314444, 4.49716757, 4.6140728 , 4.77998166,\n",
              "        4.48001683, 4.58121701, 4.07930288, 5.03498992, 4.03844836,\n",
              "        4.27382416, 3.99688428, 4.37457314, 4.46274835, 4.45406938,\n",
              "        4.65455672, 4.20749535, 4.29245055, 3.88967681, 4.39245914,\n",
              "        4.84795531, 4.39245914, 4.49716757, 6.15652607, 6.15652607,\n",
              "        6.15652607, 6.15652607, 6.15652607, 3.53483518, 3.53483518,\n",
              "        3.68340136, 3.54759408, 3.46993187, 3.44343457, 3.01819163,\n",
              "        3.05037296, 3.1287559 , 3.18945869, 3.33416642, 2.77789369,\n",
              "        2.46335537, 3.06628215, 2.50549977, 3.01819163, 3.21918087,\n",
              "        3.6953562 , 4.50569935, 2.93551931, 3.53483518, 3.38947462,\n",
              "        3.44343457, 3.36199384, 2.7225443 , 1.92564954, 2.26150315,\n",
              "        2.08823927, 2.46335537, 3.30598225, 2.68478853, 2.7225443 ,\n",
              "        1.92564954, 3.27743075, 4.87760749, 3.93314444, 4.84795531,\n",
              "        3.68340136, 3.93314444, 4.00734336, 3.83418713, 2.42028366,\n",
              "        2.46335537, 2.52623818, 3.05037296, 2.77789369, 2.70375445,\n",
              "        3.87868337, 3.58544419, 4.29245055, 3.48306363, 3.24850083,\n",
              "        2.68478853, 3.01819163, 3.1287559 , 3.14409313, 2.90151373,\n",
              "        3.62267296, 3.57289769, 3.81161746, 3.59792167, 3.24850083,\n",
              "        3.48306363, 2.9185859 , 2.75961042, 2.70375445, 3.40308806,\n",
              "        3.06628215, 3.92235239, 4.05896259, 3.73085242, 3.11330805,\n",
              "        3.2630138 , 3.67138393, 3.37577694, 3.57289769, 3.4300669 ,\n",
              "        3.48306363, 3.70724917, 3.81161746, 3.99688428, 3.67138393,\n",
              "        3.57289769, 3.38947462, 3.49611884, 3.67138393, 4.21708168,\n",
              "        3.8453907 , 3.98637906, 4.16876846, 4.23614226, 4.34750044,\n",
              "        4.20749535, 4.11947482, 4.12941417, 4.12941417, 4.22663054,\n",
              "        4.20749535, 4.17850811, 4.50569935, 5.01407071, 3.53483518,\n",
              "        3.46993187, 3.87868337, 3.2917531 , 3.63494845, 4.34750044,\n",
              "        4.4886068 , 4.54793121, 4.65455672, 4.3835322 , 4.27382416,\n",
              "        4.32928636, 4.12941417, 4.27382416, 3.70724917, 2.42028366,\n",
              "        2.6463132 , 3.50909851, 4.22663054, 4.3835322 , 4.6140728 ,\n",
              "        4.49716757, 4.18820891, 4.04872743, 4.32928636, 3.96522837,\n",
              "        3.88967681, 4.43662078, 4.27382416, 4.56462866, 4.40135419,\n",
              "        3.27743075]),\n",
              " 0.2166209012915364)"
            ]
          },
          "metadata": {},
          "execution_count": 25
        }
      ]
    },
    {
      "cell_type": "code",
      "source": [
        "len(bc_result)"
      ],
      "metadata": {
        "colab": {
          "base_uri": "https://localhost:8080/"
        },
        "id": "K4-tLJ4Y6nkM",
        "outputId": "3f09a07a-9b00-4a08-9013-1aec15041b2e"
      },
      "execution_count": 27,
      "outputs": [
        {
          "output_type": "execute_result",
          "data": {
            "text/plain": [
              "2"
            ]
          },
          "metadata": {},
          "execution_count": 27
        }
      ]
    },
    {
      "cell_type": "code",
      "source": [
        "#[1] lambda parameter determines nature of transformation\n",
        "lam"
      ],
      "metadata": {
        "colab": {
          "base_uri": "https://localhost:8080/"
        },
        "id": "N6-WXuqIzch0",
        "outputId": "eeaf553a-2052-44be-e7b2-e8e77bc6591e"
      },
      "execution_count": 29,
      "outputs": [
        {
          "output_type": "execute_result",
          "data": {
            "text/plain": [
              "0.2166209012915364"
            ]
          },
          "metadata": {},
          "execution_count": 29
        }
      ]
    },
    {
      "cell_type": "code",
      "source": [
        "boston_data['MEDV'].hist();"
      ],
      "metadata": {
        "colab": {
          "base_uri": "https://localhost:8080/",
          "height": 431
        },
        "id": "95CAaxPAztO0",
        "outputId": "5facdb54-f62a-4693-f48a-ed99a1e7c73d"
      },
      "execution_count": 30,
      "outputs": [
        {
          "output_type": "display_data",
          "data": {
            "text/plain": [
              "<Figure size 640x480 with 1 Axes>"
            ],
            "image/png": "[encoded data removed]"
          },
          "metadata": {}
        }
      ]
    },
    {
      "cell_type": "code",
      "source": [
        "normaltest(boxcox_medv)"
      ],
      "metadata": {
        "colab": {
          "base_uri": "https://localhost:8080/"
        },
        "id": "FNppQ0uPz3yH",
        "outputId": "1c2cbf83-bf6f-4f91-eea1-9b328a8378b3"
      },
      "execution_count": 31,
      "outputs": [
        {
          "output_type": "execute_result",
          "data": {
            "text/plain": [
              "NormaltestResult(statistic=4.513528775533045, pvalue=0.1046886692817602)"
            ]
          },
          "metadata": {},
          "execution_count": 31
        }
      ]
    },
    {
      "cell_type": "markdown",
      "source": [
        "Conclusion: The output is closer to normal distribution, but still not completely normal.\n",
        "\n",
        "* significantly more normally distributed (according to p value) than the other two distributions.This can be even above 0.05.\n",
        "\n",
        "* **We do not reject the null**\n",
        "\n",
        "* **We assume, we have something closer to normal**"
      ],
      "metadata": {
        "id": "9QIcXQE23gsE"
      }
    },
    {
      "cell_type": "markdown",
      "source": [
        "### Testing regression:\n"
      ],
      "metadata": {
        "id": "v_U85ef_DkJH"
      }
    },
    {
      "cell_type": "code",
      "source": [
        "from sklearn.linear_model import LinearRegression\n",
        "from sklearn.metrics import r2_score\n",
        "from sklearn.model_selection import train_test_split\n",
        "from sklearn.preprocessing import (StandardScaler, PolynomialFeatures)\n"
      ],
      "metadata": {
        "id": "wHSbF3BSDlBA"
      },
      "execution_count": 32,
      "outputs": []
    },
    {
      "cell_type": "code",
      "source": [
        "#instanciate to use later\n",
        "lr = LinearRegression()"
      ],
      "metadata": {
        "id": "uDCtzIZGEEzs"
      },
      "execution_count": 33,
      "outputs": []
    },
    {
      "cell_type": "markdown",
      "source": [
        "**Define and load the predictor (X) and Target(y) variables**\n"
      ],
      "metadata": {
        "id": "gnX407-nEsbe"
      }
    },
    {
      "cell_type": "code",
      "source": [
        "Y"
      ],
      "metadata": {
        "colab": {
          "base_uri": "https://localhost:8080/"
        },
        "id": "d1RFrQGnEH4K",
        "outputId": "15b2eb6d-e6fd-4011-e2c3-9bf331558fad"
      },
      "execution_count": 35,
      "outputs": [
        {
          "output_type": "execute_result",
          "data": {
            "text/plain": [
              "0      24.0\n",
              "1      21.6\n",
              "2      34.7\n",
              "3      33.4\n",
              "4      36.2\n",
              "       ... \n",
              "501    22.4\n",
              "502    20.6\n",
              "503    23.9\n",
              "504    22.0\n",
              "505    11.9\n",
              "Name: MEDV, Length: 506, dtype: float64"
            ]
          },
          "metadata": {},
          "execution_count": 35
        }
      ]
    },
    {
      "cell_type": "code",
      "source": [
        "X"
      ],
      "metadata": {
        "colab": {
          "base_uri": "https://localhost:8080/",
          "height": 444
        },
        "id": "Rki1H1eAFt_s",
        "outputId": "7427ce12-198a-495b-afbb-b377580de3ed"
      },
      "execution_count": 36,
      "outputs": [
        {
          "output_type": "execute_result",
          "data": {
            "text/plain": [
              "        CRIM    ZN  INDUS  CHAS    NOX     RM   AGE     DIS  RAD    TAX  \\\n",
              "0    0.00632  18.0   2.31   0.0  0.538  6.575  65.2  4.0900  1.0  296.0   \n",
              "1    0.02731   0.0   7.07   0.0  0.469  6.421  78.9  4.9671  2.0  242.0   \n",
              "2    0.02729   0.0   7.07   0.0  0.469  7.185  61.1  4.9671  2.0  242.0   \n",
              "3    0.03237   0.0   2.18   0.0  0.458  6.998  45.8  6.0622  3.0  222.0   \n",
              "4    0.06905   0.0   2.18   0.0  0.458  7.147  54.2  6.0622  3.0  222.0   \n",
              "..       ...   ...    ...   ...    ...    ...   ...     ...  ...    ...   \n",
              "501  0.06263   0.0  11.93   0.0  0.573  6.593  69.1  2.4786  1.0  273.0   \n",
              "502  0.04527   0.0  11.93   0.0  0.573  6.120  76.7  2.2875  1.0  273.0   \n",
              "503  0.06076   0.0  11.93   0.0  0.573  6.976  91.0  2.1675  1.0  273.0   \n",
              "504  0.10959   0.0  11.93   0.0  0.573  6.794  89.3  2.3889  1.0  273.0   \n",
              "505  0.04741   0.0  11.93   0.0  0.573  6.030  80.8  2.5050  1.0  273.0   \n",
              "\n",
              "     PTRATIO       B  LSTAT  \n",
              "0       15.3  396.90   4.98  \n",
              "1       17.8  396.90   9.14  \n",
              "2       17.8  392.83   4.03  \n",
              "3       18.7  394.63   2.94  \n",
              "4       18.7  396.90   5.33  \n",
              "..       ...     ...    ...  \n",
              "501     21.0  391.99   9.67  \n",
              "502     21.0  396.90   9.08  \n",
              "503     21.0  396.90   5.64  \n",
              "504     21.0  393.45   6.48  \n",
              "505     21.0  396.90   7.88  \n",
              "\n",
              "[506 rows x 13 columns]"
            ],
            "text/html": [
              "\n",
              "  <div id=\"df-73d72bda-08dc-4aeb-b9b0-28637009729a\" class=\"colab-df-container\">\n",
              "    <div>\n",
              "<style scoped>\n",
              "    .dataframe tbody tr th:only-of-type {\n",
              "        vertical-align: middle;\n",
              "    }\n",
              "\n",
              "    .dataframe tbody tr th {\n",
              "        vertical-align: top;\n",
              "    }\n",
              "\n",
              "    .dataframe thead th {\n",
              "        text-align: right;\n",
              "    }\n",
              "</style>\n",
              "<table border=\"1\" class=\"dataframe\">\n",
              "  <thead>\n",
              "    <tr style=\"text-align: right;\">\n",
              "      <th></th>\n",
              "      <th>CRIM</th>\n",
              "      <th>ZN</th>\n",
              "      <th>INDUS</th>\n",
              "      <th>CHAS</th>\n",
              "      <th>NOX</th>\n",
              "      <th>RM</th>\n",
              "      <th>AGE</th>\n",
              "      <th>DIS</th>\n",
              "      <th>RAD</th>\n",
              "      <th>TAX</th>\n",
              "      <th>PTRATIO</th>\n",
              "      <th>B</th>\n",
              "      <th>LSTAT</th>\n",
              "    </tr>\n",
              "  </thead>\n",
              "  <tbody>\n",
              "    <tr>\n",
              "      <th>0</th>\n",
              "      <td>0.00632</td>\n",
              "      <td>18.0</td>\n",
              "      <td>2.31</td>\n",
              "      <td>0.0</td>\n",
              "      <td>0.538</td>\n",
              "      <td>6.575</td>\n",
              "      <td>65.2</td>\n",
              "      <td>4.0900</td>\n",
              "      <td>1.0</td>\n",
              "      <td>296.0</td>\n",
              "      <td>15.3</td>\n",
              "      <td>396.90</td>\n",
              "      <td>4.98</td>\n",
              "    </tr>\n",
              "    <tr>\n",
              "      <th>1</th>\n",
              "      <td>0.02731</td>\n",
              "      <td>0.0</td>\n",
              "      <td>7.07</td>\n",
              "      <td>0.0</td>\n",
              "      <td>0.469</td>\n",
              "      <td>6.421</td>\n",
              "      <td>78.9</td>\n",
              "      <td>4.9671</td>\n",
              "      <td>2.0</td>\n",
              "      <td>242.0</td>\n",
              "      <td>17.8</td>\n",
              "      <td>396.90</td>\n",
              "      <td>9.14</td>\n",
              "    </tr>\n",
              "    <tr>\n",
              "      <th>2</th>\n",
              "      <td>0.02729</td>\n",
              "      <td>0.0</td>\n",
              "      <td>7.07</td>\n",
              "      <td>0.0</td>\n",
              "      <td>0.469</td>\n",
              "      <td>7.185</td>\n",
              "      <td>61.1</td>\n",
              "      <td>4.9671</td>\n",
              "      <td>2.0</td>\n",
              "      <td>242.0</td>\n",
              "      <td>17.8</td>\n",
              "      <td>392.83</td>\n",
              "      <td>4.03</td>\n",
              "    </tr>\n",
              "    <tr>\n",
              "      <th>3</th>\n",
              "      <td>0.03237</td>\n",
              "      <td>0.0</td>\n",
              "      <td>2.18</td>\n",
              "      <td>0.0</td>\n",
              "      <td>0.458</td>\n",
              "      <td>6.998</td>\n",
              "      <td>45.8</td>\n",
              "      <td>6.0622</td>\n",
              "      <td>3.0</td>\n",
              "      <td>222.0</td>\n",
              "      <td>18.7</td>\n",
              "      <td>394.63</td>\n",
              "      <td>2.94</td>\n",
              "    </tr>\n",
              "    <tr>\n",
              "      <th>4</th>\n",
              "      <td>0.06905</td>\n",
              "      <td>0.0</td>\n",
              "      <td>2.18</td>\n",
              "      <td>0.0</td>\n",
              "      <td>0.458</td>\n",
              "      <td>7.147</td>\n",
              "      <td>54.2</td>\n",
              "      <td>6.0622</td>\n",
              "      <td>3.0</td>\n",
              "      <td>222.0</td>\n",
              "      <td>18.7</td>\n",
              "      <td>396.90</td>\n",
              "      <td>5.33</td>\n",
              "    </tr>\n",
              "    <tr>\n",
              "      <th>...</th>\n",
              "      <td>...</td>\n",
              "      <td>...</td>\n",
              "      <td>...</td>\n",
              "      <td>...</td>\n",
              "      <td>...</td>\n",
              "      <td>...</td>\n",
              "      <td>...</td>\n",
              "      <td>...</td>\n",
              "      <td>...</td>\n",
              "      <td>...</td>\n",
              "      <td>...</td>\n",
              "      <td>...</td>\n",
              "      <td>...</td>\n",
              "    </tr>\n",
              "    <tr>\n",
              "      <th>501</th>\n",
              "      <td>0.06263</td>\n",
              "      <td>0.0</td>\n",
              "      <td>11.93</td>\n",
              "      <td>0.0</td>\n",
              "      <td>0.573</td>\n",
              "      <td>6.593</td>\n",
              "      <td>69.1</td>\n",
              "      <td>2.4786</td>\n",
              "      <td>1.0</td>\n",
              "      <td>273.0</td>\n",
              "      <td>21.0</td>\n",
              "      <td>391.99</td>\n",
              "      <td>9.67</td>\n",
              "    </tr>\n",
              "    <tr>\n",
              "      <th>502</th>\n",
              "      <td>0.04527</td>\n",
              "      <td>0.0</td>\n",
              "      <td>11.93</td>\n",
              "      <td>0.0</td>\n",
              "      <td>0.573</td>\n",
              "      <td>6.120</td>\n",
              "      <td>76.7</td>\n",
              "      <td>2.2875</td>\n",
              "      <td>1.0</td>\n",
              "      <td>273.0</td>\n",
              "      <td>21.0</td>\n",
              "      <td>396.90</td>\n",
              "      <td>9.08</td>\n",
              "    </tr>\n",
              "    <tr>\n",
              "      <th>503</th>\n",
              "      <td>0.06076</td>\n",
              "      <td>0.0</td>\n",
              "      <td>11.93</td>\n",
              "      <td>0.0</td>\n",
              "      <td>0.573</td>\n",
              "      <td>6.976</td>\n",
              "      <td>91.0</td>\n",
              "      <td>2.1675</td>\n",
              "      <td>1.0</td>\n",
              "      <td>273.0</td>\n",
              "      <td>21.0</td>\n",
              "      <td>396.90</td>\n",
              "      <td>5.64</td>\n",
              "    </tr>\n",
              "    <tr>\n",
              "      <th>504</th>\n",
              "      <td>0.10959</td>\n",
              "      <td>0.0</td>\n",
              "      <td>11.93</td>\n",
              "      <td>0.0</td>\n",
              "      <td>0.573</td>\n",
              "      <td>6.794</td>\n",
              "      <td>89.3</td>\n",
              "      <td>2.3889</td>\n",
              "      <td>1.0</td>\n",
              "      <td>273.0</td>\n",
              "      <td>21.0</td>\n",
              "      <td>393.45</td>\n",
              "      <td>6.48</td>\n",
              "    </tr>\n",
              "    <tr>\n",
              "      <th>505</th>\n",
              "      <td>0.04741</td>\n",
              "      <td>0.0</td>\n",
              "      <td>11.93</td>\n",
              "      <td>0.0</td>\n",
              "      <td>0.573</td>\n",
              "      <td>6.030</td>\n",
              "      <td>80.8</td>\n",
              "      <td>2.5050</td>\n",
              "      <td>1.0</td>\n",
              "      <td>273.0</td>\n",
              "      <td>21.0</td>\n",
              "      <td>396.90</td>\n",
              "      <td>7.88</td>\n",
              "    </tr>\n",
              "  </tbody>\n",
              "</table>\n",
              "<p>506 rows × 13 columns</p>\n",
              "</div>\n",
              "    <div class=\"colab-df-buttons\">\n",
              "\n",
              "  <div class=\"colab-df-container\">\n",
              "    <button class=\"colab-df-convert\" onclick=\"convertToInteractive('df-73d72bda-08dc-4aeb-b9b0-28637009729a')\"\n",
              "            title=\"Convert this dataframe to an interactive table.\"\n",
              "            style=\"display:none;\">\n",
              "\n",
              "  <svg xmlns=\"http://www.w3.org/2000/svg\" height=\"24px\" viewBox=\"0 -960 960 960\">\n",
              "    <path d=\"M120-120v-720h720v720H120Zm60-500h600v-160H180v160Zm220 220h160v-160H400v160Zm0 220h160v-160H400v160ZM180-400h160v-160H180v160Zm440 0h160v-160H620v160ZM180-180h160v-160H180v160Zm440 0h160v-160H620v160Z\"/>\n",
              "  </svg>\n",
              "    </button>\n",
              "\n",
              "  <style>\n",
              "    .colab-df-container {\n",
              "      display:flex;\n",
              "      gap: 12px;\n",
              "    }\n",
              "\n",
              "    .colab-df-convert {\n",
              "      background-color: #E8F0FE;\n",
              "      border: none;\n",
              "      border-radius: 50%;\n",
              "      cursor: pointer;\n",
              "      display: none;\n",
              "      fill: #1967D2;\n",
              "      height: 32px;\n",
              "      padding: 0 0 0 0;\n",
              "      width: 32px;\n",
              "    }\n",
              "\n",
              "    .colab-df-convert:hover {\n",
              "      background-color: #E2EBFA;\n",
              "      box-shadow: 0px 1px 2px rgba(60, 64, 67, 0.3), 0px 1px 3px 1px rgba(60, 64, 67, 0.15);\n",
              "      fill: #174EA6;\n",
              "    }\n",
              "\n",
              "    .colab-df-buttons div {\n",
              "      margin-bottom: 4px;\n",
              "    }\n",
              "\n",
              "    [theme=dark] .colab-df-convert {\n",
              "      background-color: #3B4455;\n",
              "      fill: #D2E3FC;\n",
              "    }\n",
              "\n",
              "    [theme=dark] .colab-df-convert:hover {\n",
              "      background-color: #434B5C;\n",
              "      box-shadow: 0px 1px 3px 1px rgba(0, 0, 0, 0.15);\n",
              "      filter: drop-shadow(0px 1px 2px rgba(0, 0, 0, 0.3));\n",
              "      fill: #FFFFFF;\n",
              "    }\n",
              "  </style>\n",
              "\n",
              "    <script>\n",
              "      const buttonEl =\n",
              "        document.querySelector('#df-73d72bda-08dc-4aeb-b9b0-28637009729a button.colab-df-convert');\n",
              "      buttonEl.style.display =\n",
              "        google.colab.kernel.accessAllowed ? 'block' : 'none';\n",
              "\n",
              "      async function convertToInteractive(key) {\n",
              "        const element = document.querySelector('#df-73d72bda-08dc-4aeb-b9b0-28637009729a');\n",
              "        const dataTable =\n",
              "          await google.colab.kernel.invokeFunction('convertToInteractive',\n",
              "                                                    [key], {});\n",
              "        if (!dataTable) return;\n",
              "\n",
              "        const docLinkHtml = 'Like what you see? Visit the ' +\n",
              "          '<a target=\"_blank\" href=https://colab.research.google.com/notebooks/data_table.ipynb>data table notebook</a>'\n",
              "          + ' to learn more about interactive tables.';\n",
              "        element.innerHTML = '';\n",
              "        dataTable['output_type'] = 'display_data';\n",
              "        await google.colab.output.renderOutput(dataTable, element);\n",
              "        const docLink = document.createElement('div');\n",
              "        docLink.innerHTML = docLinkHtml;\n",
              "        element.appendChild(docLink);\n",
              "      }\n",
              "    </script>\n",
              "  </div>\n",
              "\n",
              "\n",
              "<div id=\"df-f4dc8183-e1e5-4e32-ae0f-eaa92c01cf62\">\n",
              "  <button class=\"colab-df-quickchart\" onclick=\"quickchart('df-f4dc8183-e1e5-4e32-ae0f-eaa92c01cf62')\"\n",
              "            title=\"Suggest charts\"\n",
              "            style=\"display:none;\">\n",
              "\n",
              "<svg xmlns=\"http://www.w3.org/2000/svg\" height=\"24px\"viewBox=\"0 0 24 24\"\n",
              "     width=\"24px\">\n",
              "    <g>\n",
              "        <path d=\"M19 3H5c-1.1 0-2 .9-2 2v14c0 1.1.9 2 2 2h14c1.1 0 2-.9 2-2V5c0-1.1-.9-2-2-2zM9 17H7v-7h2v7zm4 0h-2V7h2v10zm4 0h-2v-4h2v4z\"/>\n",
              "    </g>\n",
              "</svg>\n",
              "  </button>\n",
              "\n",
              "<style>\n",
              "  .colab-df-quickchart {\n",
              "      --bg-color: #E8F0FE;\n",
              "      --fill-color: #1967D2;\n",
              "      --hover-bg-color: #E2EBFA;\n",
              "      --hover-fill-color: #174EA6;\n",
              "      --disabled-fill-color: #AAA;\n",
              "      --disabled-bg-color: #DDD;\n",
              "  }\n",
              "\n",
              "  [theme=dark] .colab-df-quickchart {\n",
              "      --bg-color: #3B4455;\n",
              "      --fill-color: #D2E3FC;\n",
              "      --hover-bg-color: #434B5C;\n",
              "      --hover-fill-color: #FFFFFF;\n",
              "      --disabled-bg-color: #3B4455;\n",
              "      --disabled-fill-color: #666;\n",
              "  }\n",
              "\n",
              "  .colab-df-quickchart {\n",
              "    background-color: var(--bg-color);\n",
              "    border: none;\n",
              "    border-radius: 50%;\n",
              "    cursor: pointer;\n",
              "    display: none;\n",
              "    fill: var(--fill-color);\n",
              "    height: 32px;\n",
              "    padding: 0;\n",
              "    width: 32px;\n",
              "  }\n",
              "\n",
              "  .colab-df-quickchart:hover {\n",
              "    background-color: var(--hover-bg-color);\n",
              "    box-shadow: 0 1px 2px rgba(60, 64, 67, 0.3), 0 1px 3px 1px rgba(60, 64, 67, 0.15);\n",
              "    fill: var(--button-hover-fill-color);\n",
              "  }\n",
              "\n",
              "  .colab-df-quickchart-complete:disabled,\n",
              "  .colab-df-quickchart-complete:disabled:hover {\n",
              "    background-color: var(--disabled-bg-color);\n",
              "    fill: var(--disabled-fill-color);\n",
              "    box-shadow: none;\n",
              "  }\n",
              "\n",
              "  .colab-df-spinner {\n",
              "    border: 2px solid var(--fill-color);\n",
              "    border-color: transparent;\n",
              "    border-bottom-color: var(--fill-color);\n",
              "    animation:\n",
              "      spin 1s steps(1) infinite;\n",
              "  }\n",
              "\n",
              "  @keyframes spin {\n",
              "    0% {\n",
              "      border-color: transparent;\n",
              "      border-bottom-color: var(--fill-color);\n",
              "      border-left-color: var(--fill-color);\n",
              "    }\n",
              "    20% {\n",
              "      border-color: transparent;\n",
              "      border-left-color: var(--fill-color);\n",
              "      border-top-color: var(--fill-color);\n",
              "    }\n",
              "    30% {\n",
              "      border-color: transparent;\n",
              "      border-left-color: var(--fill-color);\n",
              "      border-top-color: var(--fill-color);\n",
              "      border-right-color: var(--fill-color);\n",
              "    }\n",
              "    40% {\n",
              "      border-color: transparent;\n",
              "      border-right-color: var(--fill-color);\n",
              "      border-top-color: var(--fill-color);\n",
              "    }\n",
              "    60% {\n",
              "      border-color: transparent;\n",
              "      border-right-color: var(--fill-color);\n",
              "    }\n",
              "    80% {\n",
              "      border-color: transparent;\n",
              "      border-right-color: var(--fill-color);\n",
              "      border-bottom-color: var(--fill-color);\n",
              "    }\n",
              "    90% {\n",
              "      border-color: transparent;\n",
              "      border-bottom-color: var(--fill-color);\n",
              "    }\n",
              "  }\n",
              "</style>\n",
              "\n",
              "  <script>\n",
              "    async function quickchart(key) {\n",
              "      const quickchartButtonEl =\n",
              "        document.querySelector('#' + key + ' button');\n",
              "      quickchartButtonEl.disabled = true;  // To prevent multiple clicks.\n",
              "      quickchartButtonEl.classList.add('colab-df-spinner');\n",
              "      try {\n",
              "        const charts = await google.colab.kernel.invokeFunction(\n",
              "            'suggestCharts', [key], {});\n",
              "      } catch (error) {\n",
              "        console.error('Error during call to suggestCharts:', error);\n",
              "      }\n",
              "      quickchartButtonEl.classList.remove('colab-df-spinner');\n",
              "      quickchartButtonEl.classList.add('colab-df-quickchart-complete');\n",
              "    }\n",
              "    (() => {\n",
              "      let quickchartButtonEl =\n",
              "        document.querySelector('#df-f4dc8183-e1e5-4e32-ae0f-eaa92c01cf62 button');\n",
              "      quickchartButtonEl.style.display =\n",
              "        google.colab.kernel.accessAllowed ? 'block' : 'none';\n",
              "    })();\n",
              "  </script>\n",
              "</div>\n",
              "\n",
              "  <div id=\"id_06d3cd23-4700-4d07-8546-924c6f10c6d3\">\n",
              "    <style>\n",
              "      .colab-df-generate {\n",
              "        background-color: #E8F0FE;\n",
              "        border: none;\n",
              "        border-radius: 50%;\n",
              "        cursor: pointer;\n",
              "        display: none;\n",
              "        fill: #1967D2;\n",
              "        height: 32px;\n",
              "        padding: 0 0 0 0;\n",
              "        width: 32px;\n",
              "      }\n",
              "\n",
              "      .colab-df-generate:hover {\n",
              "        background-color: #E2EBFA;\n",
              "        box-shadow: 0px 1px 2px rgba(60, 64, 67, 0.3), 0px 1px 3px 1px rgba(60, 64, 67, 0.15);\n",
              "        fill: #174EA6;\n",
              "      }\n",
              "\n",
              "      [theme=dark] .colab-df-generate {\n",
              "        background-color: #3B4455;\n",
              "        fill: #D2E3FC;\n",
              "      }\n",
              "\n",
              "      [theme=dark] .colab-df-generate:hover {\n",
              "        background-color: #434B5C;\n",
              "        box-shadow: 0px 1px 3px 1px rgba(0, 0, 0, 0.15);\n",
              "        filter: drop-shadow(0px 1px 2px rgba(0, 0, 0, 0.3));\n",
              "        fill: #FFFFFF;\n",
              "      }\n",
              "    </style>\n",
              "    <button class=\"colab-df-generate\" onclick=\"generateWithVariable('X')\"\n",
              "            title=\"Generate code using this dataframe.\"\n",
              "            style=\"display:none;\">\n",
              "\n",
              "  <svg xmlns=\"http://www.w3.org/2000/svg\" height=\"24px\"viewBox=\"0 0 24 24\"\n",
              "       width=\"24px\">\n",
              "    <path d=\"M7,19H8.4L18.45,9,17,7.55,7,17.6ZM5,21V16.75L18.45,3.32a2,2,0,0,1,2.83,0l1.4,1.43a1.91,1.91,0,0,1,.58,1.4,1.91,1.91,0,0,1-.58,1.4L9.25,21ZM18.45,9,17,7.55Zm-12,3A5.31,5.31,0,0,0,4.9,8.1,5.31,5.31,0,0,0,1,6.5,5.31,5.31,0,0,0,4.9,4.9,5.31,5.31,0,0,0,6.5,1,5.31,5.31,0,0,0,8.1,4.9,5.31,5.31,0,0,0,12,6.5,5.46,5.46,0,0,0,6.5,12Z\"/>\n",
              "  </svg>\n",
              "    </button>\n",
              "    <script>\n",
              "      (() => {\n",
              "      const buttonEl =\n",
              "        document.querySelector('#id_06d3cd23-4700-4d07-8546-924c6f10c6d3 button.colab-df-generate');\n",
              "      buttonEl.style.display =\n",
              "        google.colab.kernel.accessAllowed ? 'block' : 'none';\n",
              "\n",
              "      buttonEl.onclick = () => {\n",
              "        google.colab.notebook.generateWithVariable('X');\n",
              "      }\n",
              "      })();\n",
              "    </script>\n",
              "  </div>\n",
              "\n",
              "    </div>\n",
              "  </div>\n"
            ],
            "application/vnd.google.colaboratory.intrinsic+json": {
              "type": "dataframe",
              "variable_name": "X",
              "summary": "{\n  \"name\": \"X\",\n  \"rows\": 506,\n  \"fields\": [\n    {\n      \"column\": \"CRIM\",\n      \"properties\": {\n        \"dtype\": \"number\",\n        \"std\": 8.596782593323319,\n        \"min\": 0.00632,\n        \"max\": 88.9762,\n        \"num_unique_values\": 504,\n        \"samples\": [\n          0.09178,\n          0.05644,\n          0.10574\n        ],\n        \"semantic_type\": \"\",\n        \"description\": \"\"\n      }\n    },\n    {\n      \"column\": \"ZN\",\n      \"properties\": {\n        \"dtype\": \"number\",\n        \"std\": 23.32245299451514,\n        \"min\": 0.0,\n        \"max\": 100.0,\n        \"num_unique_values\": 26,\n        \"samples\": [\n          25.0,\n          30.0,\n          18.0\n        ],\n        \"semantic_type\": \"\",\n        \"description\": \"\"\n      }\n    },\n    {\n      \"column\": \"INDUS\",\n      \"properties\": {\n        \"dtype\": \"number\",\n        \"std\": 6.860352940897585,\n        \"min\": 0.46,\n        \"max\": 27.74,\n        \"num_unique_values\": 76,\n        \"samples\": [\n          8.14,\n          1.47,\n          1.22\n        ],\n        \"semantic_type\": \"\",\n        \"description\": \"\"\n      }\n    },\n    {\n      \"column\": \"CHAS\",\n      \"properties\": {\n        \"dtype\": \"number\",\n        \"std\": 0.25399404134041037,\n        \"min\": 0.0,\n        \"max\": 1.0,\n        \"num_unique_values\": 2,\n        \"samples\": [\n          1.0,\n          0.0\n        ],\n        \"semantic_type\": \"\",\n        \"description\": \"\"\n      }\n    },\n    {\n      \"column\": \"NOX\",\n      \"properties\": {\n        \"dtype\": \"number\",\n        \"std\": 0.11587767566755595,\n        \"min\": 0.385,\n        \"max\": 0.871,\n        \"num_unique_values\": 81,\n        \"samples\": [\n          0.401,\n          0.538\n        ],\n        \"semantic_type\": \"\",\n        \"description\": \"\"\n      }\n    },\n    {\n      \"column\": \"RM\",\n      \"properties\": {\n        \"dtype\": \"number\",\n        \"std\": 0.7026171434153233,\n        \"min\": 3.561,\n        \"max\": 8.78,\n        \"num_unique_values\": 446,\n        \"samples\": [\n          6.849,\n          4.88\n        ],\n        \"semantic_type\": \"\",\n        \"description\": \"\"\n      }\n    },\n    {\n      \"column\": \"AGE\",\n      \"properties\": {\n        \"dtype\": \"number\",\n        \"std\": 28.148861406903617,\n        \"min\": 2.9,\n        \"max\": 100.0,\n        \"num_unique_values\": 356,\n        \"samples\": [\n          51.8,\n          33.8\n        ],\n        \"semantic_type\": \"\",\n        \"description\": \"\"\n      }\n    },\n    {\n      \"column\": \"DIS\",\n      \"properties\": {\n        \"dtype\": \"number\",\n        \"std\": 2.105710126627611,\n        \"min\": 1.1296,\n        \"max\": 12.1265,\n        \"num_unique_values\": 412,\n        \"samples\": [\n          2.2955,\n          4.2515\n        ],\n        \"semantic_type\": \"\",\n        \"description\": \"\"\n      }\n    },\n    {\n      \"column\": \"RAD\",\n      \"properties\": {\n        \"dtype\": \"number\",\n        \"std\": 8.707259384239366,\n        \"min\": 1.0,\n        \"max\": 24.0,\n        \"num_unique_values\": 9,\n        \"samples\": [\n          7.0,\n          2.0\n        ],\n        \"semantic_type\": \"\",\n        \"description\": \"\"\n      }\n    },\n    {\n      \"column\": \"TAX\",\n      \"properties\": {\n        \"dtype\": \"number\",\n        \"std\": 168.53711605495903,\n        \"min\": 187.0,\n        \"max\": 711.0,\n        \"num_unique_values\": 66,\n        \"samples\": [\n          370.0,\n          666.0\n        ],\n        \"semantic_type\": \"\",\n        \"description\": \"\"\n      }\n    },\n    {\n      \"column\": \"PTRATIO\",\n      \"properties\": {\n        \"dtype\": \"number\",\n        \"std\": 2.1649455237144406,\n        \"min\": 12.6,\n        \"max\": 22.0,\n        \"num_unique_values\": 46,\n        \"samples\": [\n          19.6,\n          15.6\n        ],\n        \"semantic_type\": \"\",\n        \"description\": \"\"\n      }\n    },\n    {\n      \"column\": \"B\",\n      \"properties\": {\n        \"dtype\": \"number\",\n        \"std\": 91.29486438415783,\n        \"min\": 0.32,\n        \"max\": 396.9,\n        \"num_unique_values\": 357,\n        \"samples\": [\n          396.24,\n          395.11\n        ],\n        \"semantic_type\": \"\",\n        \"description\": \"\"\n      }\n    },\n    {\n      \"column\": \"LSTAT\",\n      \"properties\": {\n        \"dtype\": \"number\",\n        \"std\": 7.141061511348571,\n        \"min\": 1.73,\n        \"max\": 37.97,\n        \"num_unique_values\": 455,\n        \"samples\": [\n          6.15,\n          4.32\n        ],\n        \"semantic_type\": \"\",\n        \"description\": \"\"\n      }\n    }\n  ]\n}"
            }
          },
          "metadata": {},
          "execution_count": 36
        }
      ]
    },
    {
      "cell_type": "markdown",
      "source": [
        "**Create Polynomial Features**\n"
      ],
      "metadata": {
        "id": "uv64GfNgHEf9"
      }
    },
    {
      "cell_type": "code",
      "source": [
        "pf = PolynomialFeatures(degree=2, include_bias=False)\n",
        "X_pf = pf.fit_transform(X)"
      ],
      "metadata": {
        "id": "DRixVHckFunU"
      },
      "execution_count": 37,
      "outputs": []
    },
    {
      "cell_type": "code",
      "source": [
        "X_pf"
      ],
      "metadata": {
        "colab": {
          "base_uri": "https://localhost:8080/"
        },
        "id": "a6QjcJnXHYVi",
        "outputId": "6418e420-1551-4e17-8787-157eb2ef95ad"
      },
      "execution_count": 38,
      "outputs": [
        {
          "output_type": "execute_result",
          "data": {
            "text/plain": [
              "array([[6.32000000e-03, 1.80000000e+01, 2.31000000e+00, ...,\n",
              "        1.57529610e+05, 1.97656200e+03, 2.48004000e+01],\n",
              "       [2.73100000e-02, 0.00000000e+00, 7.07000000e+00, ...,\n",
              "        1.57529610e+05, 3.62766600e+03, 8.35396000e+01],\n",
              "       [2.72900000e-02, 0.00000000e+00, 7.07000000e+00, ...,\n",
              "        1.54315409e+05, 1.58310490e+03, 1.62409000e+01],\n",
              "       ...,\n",
              "       [6.07600000e-02, 0.00000000e+00, 1.19300000e+01, ...,\n",
              "        1.57529610e+05, 2.23851600e+03, 3.18096000e+01],\n",
              "       [1.09590000e-01, 0.00000000e+00, 1.19300000e+01, ...,\n",
              "        1.54802902e+05, 2.54955600e+03, 4.19904000e+01],\n",
              "       [4.74100000e-02, 0.00000000e+00, 1.19300000e+01, ...,\n",
              "        1.57529610e+05, 3.12757200e+03, 6.20944000e+01]])"
            ]
          },
          "metadata": {},
          "execution_count": 38
        }
      ]
    },
    {
      "cell_type": "code",
      "source": [
        "X.shape"
      ],
      "metadata": {
        "colab": {
          "base_uri": "https://localhost:8080/"
        },
        "id": "BWy8EROsHdml",
        "outputId": "8f11dfad-7642-4773-8583-10ef28123364"
      },
      "execution_count": 39,
      "outputs": [
        {
          "output_type": "execute_result",
          "data": {
            "text/plain": [
              "(506, 13)"
            ]
          },
          "metadata": {},
          "execution_count": 39
        }
      ]
    },
    {
      "cell_type": "code",
      "source": [
        "X_pf.shape"
      ],
      "metadata": {
        "colab": {
          "base_uri": "https://localhost:8080/"
        },
        "id": "HEdaz3v5Hhf-",
        "outputId": "31911c36-2c89-43a0-bc1e-149faaf0bf99"
      },
      "execution_count": 40,
      "outputs": [
        {
          "output_type": "execute_result",
          "data": {
            "text/plain": [
              "(506, 104)"
            ]
          },
          "metadata": {},
          "execution_count": 40
        }
      ]
    },
    {
      "cell_type": "markdown",
      "source": [
        "**Split the data into Training and Test Sets**   \n",
        "\n",
        "The split ratio here is 0.7 and 0.3 which means we will assign **70%** data for training and **30%** data for testing\n"
      ],
      "metadata": {
        "id": "xMHyDy8sIY8w"
      }
    },
    {
      "cell_type": "code",
      "source": [
        "X_train, X_test, y_train, y_test = train_test_split(X_pf, Y, test_size=0.3,\n",
        "                                                    random_state=72018)"
      ],
      "metadata": {
        "id": "1ogKImmLInj7"
      },
      "execution_count": 41,
      "outputs": []
    },
    {
      "cell_type": "markdown",
      "source": [
        "**Normalize the training data using `StandardScaler` on `X_train`. Use fit_transform() function**\n"
      ],
      "metadata": {
        "id": "Tl55wGJ4JJeP"
      }
    },
    {
      "cell_type": "code",
      "source": [
        "s = StandardScaler()\n",
        "X_train_s = s.fit_transform(X_train)"
      ],
      "metadata": {
        "id": "-tScBOHhJJ34"
      },
      "execution_count": 42,
      "outputs": []
    },
    {
      "cell_type": "markdown",
      "source": [
        "* After StandardScaler, apply boxcox transformation"
      ],
      "metadata": {
        "id": "XrjtL48kJh6_"
      }
    },
    {
      "cell_type": "markdown",
      "source": [
        "> **Only learning from training data, x_train, y_train which we split, so making transformations to make sure are uniform distributions**"
      ],
      "metadata": {
        "id": "jldA1XU3KkLc"
      }
    },
    {
      "cell_type": "code",
      "source": [
        "#boxcox transformation gives two outputs\n",
        "\n",
        "bc_result2 = boxcox(y_train)\n",
        "y_train_bc = bc_result2[0] #Actual values Transformed values index 0 of output\n",
        "lam2 = bc_result2[1]       #Lamda value, parameter we learned from data to comeup with normal distribution"
      ],
      "metadata": {
        "id": "ajAQOePlJhc8"
      },
      "execution_count": 44,
      "outputs": []
    },
    {
      "cell_type": "markdown",
      "source": [
        "As before, we'll now:\n",
        "\n",
        "1. Fit regression\n",
        "1. Transform testing data\n",
        "1. Predict on testing data\n"
      ],
      "metadata": {
        "id": "IEkyLBcFKb6r"
      }
    },
    {
      "cell_type": "code",
      "source": [
        "lam2"
      ],
      "metadata": {
        "colab": {
          "base_uri": "https://localhost:8080/"
        },
        "id": "enec-gu8K3IO",
        "outputId": "863204bd-b7ab-4093-fa6f-4041a4c2a786"
      },
      "execution_count": 45,
      "outputs": [
        {
          "output_type": "execute_result",
          "data": {
            "text/plain": [
              "0.2751714409758365"
            ]
          },
          "metadata": {},
          "execution_count": 45
        }
      ]
    },
    {
      "cell_type": "code",
      "source": [
        "#Actual predictions\n",
        "y_train_bc"
      ],
      "metadata": {
        "colab": {
          "base_uri": "https://localhost:8080/"
        },
        "id": "kOR5PxzeLi66",
        "outputId": "e4257edd-cedc-430a-aa09-68536eacdbc1"
      },
      "execution_count": 53,
      "outputs": [
        {
          "output_type": "execute_result",
          "data": {
            "text/plain": [
              "array([4.8625686 , 6.0629177 , 4.51310411, 4.81957899, 4.95725428,\n",
              "       5.77277497, 5.41197088, 5.75640624, 3.72665146, 4.94686892,\n",
              "       5.75640624, 4.80874112, 3.92225296, 4.58384068, 4.78695477,\n",
              "       6.64804017, 3.77300722, 2.91446761, 3.99405229, 5.37557157,\n",
              "       2.91446761, 5.14858214, 3.37830364, 5.61413692, 4.46503222,\n",
              "       6.62861276, 3.53307611, 3.78829063, 4.6643901 , 4.74293114,\n",
              "       4.76501893, 4.58384068, 6.66093826, 4.90499278, 4.72068886,\n",
              "       5.1583522 , 3.30653002, 3.15681299, 4.6070669 , 6.0021158 ,\n",
              "       7.02952208, 4.6870301 , 3.78829063, 5.05933485, 4.19940562,\n",
              "       4.93645035, 6.30368143, 7.02952208, 5.65657858, 4.54867373,\n",
              "       4.59547537, 4.6070669 , 4.8411456 , 5.37557157, 3.93675676,\n",
              "       4.22573738, 4.6070669 , 4.47712066, 4.54867373, 5.61413692,\n",
              "       4.93645035, 2.39638821, 4.88385027, 3.6795137 , 5.08935167,\n",
              "       4.78695477, 6.22513995, 4.92599831, 6.02503476, 4.10535832,\n",
              "       4.4284788 , 4.59547537, 5.51012859, 3.51631095, 5.05933485,\n",
              "       4.54867373, 5.90897289, 4.58384068, 4.05023615, 4.58384068,\n",
              "       7.02952208, 5.45693428, 4.87322696, 4.47712066, 7.02952208,\n",
              "       4.65300883, 5.01888279, 3.11799245, 7.02952208, 4.57216244,\n",
              "       5.06937077, 5.10921274, 2.02481765, 4.54867373, 4.63012196,\n",
              "       4.8625686 , 2.87170159, 4.96760668, 4.65300883, 4.98821357,\n",
              "       5.89321422, 3.78829063, 4.69828951, 5.08935167, 4.6870301 ,\n",
              "       5.17780698, 3.78829063, 2.97726946, 4.8411456 , 5.76459999,\n",
              "       4.58384068, 4.75399418, 4.40386518, 3.69531512, 5.1583522 ,\n",
              "       3.80349159, 4.77600569, 6.02503476, 4.39148356, 5.32023533,\n",
              "       5.59701568, 2.82818197, 5.51891547, 2.02481765, 5.69851559,\n",
              "       4.47712066, 4.41619677, 4.8625686 , 5.17780698, 4.02227997,\n",
              "       5.50131941, 4.57216244, 4.31611532, 3.25138802, 5.465857  ,\n",
              "       5.63966328, 5.55384267, 6.04781136, 4.61861563, 4.8411456 ,\n",
              "       3.6795137 , 4.44071174, 4.59547537, 4.05023615, 6.1375352 ,\n",
              "       4.05023615, 5.89321422, 4.70950898, 6.12273165, 2.69276611,\n",
              "       4.83038039, 4.87322696, 6.19616649, 5.06937077, 5.03917094,\n",
              "       4.44071174, 6.48309287, 4.89443878, 4.99846855, 5.51891547,\n",
              "       4.93645035, 3.37830364, 4.98821357, 4.64158623, 5.07937631,\n",
              "       5.19714927, 4.97792636, 5.12895568, 7.02952208, 3.48246652,\n",
              "       7.02952208, 5.8133718 , 4.17283862, 6.12273165, 4.92599831,\n",
              "       4.30336941, 3.74218874, 4.64158623, 5.31092456, 5.03917094,\n",
              "       4.37905141, 4.59547537, 4.00820046, 5.13878337, 4.75399418,\n",
              "       4.22573738, 4.6870301 , 5.54514366, 4.65300883, 6.20343095,\n",
              "       6.0629177 , 5.33878073, 2.62209382, 5.04926831, 7.02952208,\n",
              "       5.90897289, 4.96760668, 5.4924878 , 5.63966328, 5.41197088,\n",
              "       4.56044025, 3.53307611, 4.63012196, 5.10921274, 5.13878337,\n",
              "       4.6643901 , 4.52500607, 4.76501893, 5.06937077, 4.15946534,\n",
              "       6.75005519, 4.97792636, 4.10535832, 4.31611532, 4.50115617,\n",
              "       4.74293114, 6.71210964, 5.55384267, 4.95725428, 6.14491488,\n",
              "       4.87322696, 5.02904251, 2.95651035, 3.89302335, 4.6643901 ,\n",
              "       4.63012196, 3.95118773, 4.56044025, 4.67573041, 4.45289606,\n",
              "       3.74218874, 4.83038039, 5.32952066, 4.80874112, 4.53686248,\n",
              "       3.81861116, 4.80874112, 4.95725428, 3.6795137 , 5.69016788,\n",
              "       4.25183879, 4.70950898, 4.70950898, 4.26480461, 3.66362184,\n",
              "       5.04926831, 4.94686892, 3.90767545, 4.72068886, 4.10535832,\n",
              "       3.44819273, 5.67341314, 7.02952208, 3.84861019, 4.17283862,\n",
              "       6.38062104, 4.46503222, 4.85187491, 5.11909887, 7.02952208,\n",
              "       6.83104027, 4.6070669 , 4.87322696, 4.45289606, 4.69828951,\n",
              "       2.62209382, 5.44798843, 6.5829015 , 4.50115617, 4.53686248,\n",
              "       4.99846855, 4.47712066, 4.87322696, 5.10921274, 4.06411435,\n",
              "       4.72068886, 7.02952208, 5.14858214, 3.95118773, 4.67573041,\n",
              "       2.62209382, 4.98821357, 4.02227997, 4.00820046, 4.29056935,\n",
              "       3.6476383 , 4.57216244, 4.34144687, 3.84861019, 4.97792636,\n",
              "       4.10535832, 4.46503222, 3.58276147, 6.54991774, 5.32952066,\n",
              "       5.82948262, 4.6870301 , 3.84861019, 4.69828951, 4.77600569,\n",
              "       4.48916183, 4.8411456 , 4.74293114, 5.00869155, 5.17780698,\n",
              "       3.3605416 , 2.89317686, 4.87322696, 4.57216244, 3.28827772,\n",
              "       4.17283862, 5.36641096, 4.97792636, 5.17780698, 4.72068886,\n",
              "       3.96554675, 4.25183879, 4.98821357, 5.06937077, 5.11909887,\n",
              "       5.29222605, 5.41197088, 3.93675676, 4.23881658, 5.05933485,\n",
              "       4.50115617, 4.91551254, 4.91551254, 6.04023484, 5.71515227,\n",
              "       4.8411456 , 4.26480461, 5.12895568, 4.34144687, 6.1078687 ,\n",
              "       5.17780698, 3.81861116, 5.73171132, 5.86944667, 2.20407036,\n",
              "       3.28827772, 4.89443878, 5.83751101, 5.17780698, 5.85351424,\n",
              "       5.04926831, 4.78695477, 4.36656825, 4.39148356, 4.81957899,\n",
              "       5.47475673, 5.20677872, 4.02227997, 4.34144687])"
            ]
          },
          "metadata": {},
          "execution_count": 53
        }
      ]
    },
    {
      "cell_type": "code",
      "source": [
        "#test values\n",
        "y_test"
      ],
      "metadata": {
        "colab": {
          "base_uri": "https://localhost:8080/"
        },
        "id": "bk4Jyeqgr56K",
        "outputId": "8a11aac6-4278-4194-f1b1-770eb2ddefaa"
      },
      "execution_count": 55,
      "outputs": [
        {
          "output_type": "execute_result",
          "data": {
            "text/plain": [
              "502    20.6\n",
              "127    16.2\n",
              "390    15.1\n",
              "303    33.1\n",
              "277    33.1\n",
              "       ... \n",
              "433    14.3\n",
              "505    11.9\n",
              "53     23.4\n",
              "82     24.8\n",
              "377    13.3\n",
              "Name: MEDV, Length: 152, dtype: float64"
            ]
          },
          "metadata": {},
          "execution_count": 55
        }
      ]
    },
    {
      "cell_type": "markdown",
      "source": [
        "* Currently difference in scales of\n",
        "y_train_bc and the y_test\n",
        "\n",
        "* Inverse transformation on boxcox_medv in order to bring these two varaibles on the same scale."
      ],
      "metadata": {
        "id": "RI628zP5sKwW"
      }
    },
    {
      "cell_type": "code",
      "source": [
        "#Fitting on initially instanciated linear regression model\n",
        "\n",
        "lr.fit(X_train_s, y_train_bc)\n",
        "X_test_s = s.transform(X_test) #s defined before and fit to x_train\n",
        "y_pred_bc = lr.predict(X_test_s) #Comes up with actual predictions"
      ],
      "metadata": {
        "id": "8S4ARpRILpqv"
      },
      "execution_count": 48,
      "outputs": []
    },
    {
      "cell_type": "markdown",
      "source": [
        "#### Apply inverse transformations to be able to use these in a Regression context\n"
      ],
      "metadata": {
        "id": "TUfRRJLSMHA3"
      }
    },
    {
      "cell_type": "markdown",
      "source": [
        "Every transformation has an inverse transformation. The inverse transformation of $f(x) = \\sqrt{x}$ is $f^{-1}(x) = x^2$, for example. Box cox has an inverse transformation as well: notice that we have to pass in the lambda value that we found from before:\n"
      ],
      "metadata": {
        "id": "5TN8Nao0MJDq"
      }
    },
    {
      "cell_type": "code",
      "source": [
        "from scipy.special import inv_boxcox"
      ],
      "metadata": {
        "id": "iI595BqtMJ5I"
      },
      "execution_count": 49,
      "outputs": []
    },
    {
      "cell_type": "code",
      "source": [
        "bc_result = boxcox(y_train)\n",
        "boxcox_medv = bc_result2[0] #Actual values Transformed values index 0 of output\n",
        "lam = bc_result[1]"
      ],
      "metadata": {
        "id": "9xM_I94at0AJ"
      },
      "execution_count": 57,
      "outputs": []
    },
    {
      "cell_type": "code",
      "source": [
        "boxcox_medv[:10]"
      ],
      "metadata": {
        "colab": {
          "base_uri": "https://localhost:8080/"
        },
        "id": "ZPXF6qbmuaaj",
        "outputId": "0f83986c-95e0-48a9-c63f-f73451ec5e1f"
      },
      "execution_count": 60,
      "outputs": [
        {
          "output_type": "execute_result",
          "data": {
            "text/plain": [
              "array([4.8625686 , 6.0629177 , 4.51310411, 4.81957899, 4.95725428,\n",
              "       5.77277497, 5.41197088, 5.75640624, 3.72665146, 4.94686892])"
            ]
          },
          "metadata": {},
          "execution_count": 60
        }
      ]
    },
    {
      "cell_type": "code",
      "source": [
        "#doing inverse of function to get to original form of x\n",
        "inv_boxcox(boxcox_medv, lam)[:10] #show only 10 first values"
      ],
      "metadata": {
        "colab": {
          "base_uri": "https://localhost:8080/"
        },
        "id": "o0-fFxDaMMx7",
        "outputId": "4683953e-fcba-4b15-9d26-80800b382d20"
      },
      "execution_count": 59,
      "outputs": [
        {
          "output_type": "execute_result",
          "data": {
            "text/plain": [
              "array([21.9, 35.4, 18.8, 21.5, 22.8, 31.7, 27.5, 31.5, 13. , 22.7, 31.5,\n",
              "       21.4, 14.3, 19.4, 21.2, 43.8, 13.3,  8.5, 14.8, 27.1,  8.5, 24.7,\n",
              "       10.9, 29.8, 18.4, 43.5, 11.8, 13.4, 20.1, 20.8, 21. , 19.4, 44. ,\n",
              "       22.3, 20.6, 24.8, 10.5,  9.7, 19.6, 34.6, 50. , 20.3, 13.4, 23.8,\n",
              "       16.3, 22.6, 38.7, 50. , 30.3, 19.1, 19.5, 19.6, 21.7, 27.1, 14.4,\n",
              "       16.5, 19.6, 18.5, 19.1, 29.8, 22.6,  6.3, 22.1, 12.7, 24.1, 21.2,\n",
              "       37.6, 22.5, 34.9, 15.6, 18.1, 19.5, 28.6, 11.7, 23.8, 19.1, 33.4,\n",
              "       19.4, 15.2, 19.4, 50. , 28. , 22. , 18.5, 50. , 20. , 23.4,  9.5,\n",
              "       50. , 19.3, 23.9, 24.3,  5. , 19.1, 19.8, 21.9,  8.3, 22.9, 20. ,\n",
              "       23.1, 33.2, 13.4, 20.4, 24.1, 20.3, 25. , 13.4,  8.8, 21.7, 31.6,\n",
              "       19.4, 20.9, 17.9, 12.8, 24.8, 13.5, 21.1, 34.9, 17.8, 26.5, 29.6,\n",
              "        8.1, 28.7,  5. , 30.8, 18.5, 18. , 21.9, 25. , 15. , 28.5, 19.3,\n",
              "       17.2, 10.2, 28.1, 30.1, 29.1, 35.2, 19.7, 21.7, 12.7, 18.2, 19.5,\n",
              "       15.2, 36.4, 15.2, 33.2, 20.5, 36.2,  7.5, 21.6, 22. , 37.2, 23.9,\n",
              "       23.6, 18.2, 41.3, 22.2, 23.2, 28.7, 22.6, 10.9, 23.1, 19.9, 24. ,\n",
              "       25.2, 23. , 24.5, 50. , 11.5, 50. , 32.2, 16.1, 36.2, 22.5, 17.1,\n",
              "       13.1, 19.9, 26.4, 23.6, 17.7, 19.5, 14.9, 24.6, 20.9, 16.5, 20.3,\n",
              "       29. , 20. , 37.3, 35.4, 26.7,  7.2, 23.7, 50. , 33.4, 22.9, 28.4,\n",
              "       30.1, 27.5, 19.2, 11.8, 19.8, 24.3, 24.6, 20.1, 18.9, 21. , 23.9,\n",
              "       16. , 45.4, 23. , 15.6, 17.2, 18.7, 20.8, 44.8, 29.1, 22.8, 36.5,\n",
              "       22. , 23.5,  8.7, 14.1, 20.1, 19.8, 14.5, 19.2, 20.2, 18.3, 13.1,\n",
              "       21.6, 26.6, 21.4, 19. , 13.6, 21.4, 22.8, 12.7, 30.7, 16.7, 20.5,\n",
              "       20.5, 16.8, 12.6, 23.7, 22.7, 14.2, 20.6, 15.6, 11.3, 30.5, 50. ,\n",
              "       13.8, 16.1, 39.8, 18.4, 21.8, 24.4, 50. , 46.7, 19.6, 22. , 18.3,\n",
              "       20.4,  7.2, 27.9, 42.8, 18.7, 19. , 23.2, 18.5, 22. , 24.3, 15.3,\n",
              "       20.6, 50. , 24.7, 14.5, 20.2,  7.2, 23.1, 15. , 14.9, 17. , 12.5,\n",
              "       19.3, 17.4, 13.8, 23. , 15.6, 18.4, 12.1, 42.3, 26.6, 32.4, 20.3,\n",
              "       13.8, 20.4, 21.1, 18.6, 21.7, 20.8, 23.3, 25. , 10.8,  8.4, 22. ,\n",
              "       19.3, 10.4, 16.1, 27. , 23. , 25. , 20.6, 14.6, 16.7, 23.1, 23.9,\n",
              "       24.4, 26.2, 27.5, 14.4, 16.6, 23.8, 18.7, 22.4, 22.4, 35.1, 31. ,\n",
              "       21.7, 16.8, 24.5, 17.4, 36. , 25. , 13.6, 31.2, 32.9,  5.6, 10.4,\n",
              "       22.2, 32.5, 25. , 32.7, 23.7, 21.2, 17.6, 17.8, 21.5, 28.2, 25.3,\n",
              "       15. , 17.4])"
            ]
          },
          "metadata": {},
          "execution_count": 59
        }
      ]
    },
    {
      "cell_type": "code",
      "source": [
        "boston_data['MEDV'].values[:10]"
      ],
      "metadata": {
        "colab": {
          "base_uri": "https://localhost:8080/"
        },
        "id": "SRYmPI_cMumD",
        "outputId": "02d74b53-b232-47d4-99b5-4ac8b543875f"
      },
      "execution_count": 51,
      "outputs": [
        {
          "output_type": "execute_result",
          "data": {
            "text/plain": [
              "array([24. , 21.6, 34.7, 33.4, 36.2, 28.7, 22.9, 27.1, 16.5, 18.9])"
            ]
          },
          "metadata": {},
          "execution_count": 51
        }
      ]
    },
    {
      "cell_type": "markdown",
      "source": [
        "### Determine the R^2 of a LinearRegression without the box cox transformation.\n",
        "\n",
        "\n",
        "1. Applying the inverse transformation to `y_pred_bc`.\n",
        "\n",
        "2. Calculating the $R^2$ using the result of this inverse transformation and `y_test`.  \n"
      ],
      "metadata": {
        "id": "eTOGkVidvw_U"
      }
    },
    {
      "cell_type": "code",
      "source": [
        "#lam2 second output from boxcox\n",
        "y_pred_train = inv_boxcox(y_pred_bc, lam2)\n",
        "\n",
        "#find r2 score between predicted and test values\n",
        "r2_score(y_pred_train, y_test)"
      ],
      "metadata": {
        "colab": {
          "base_uri": "https://localhost:8080/"
        },
        "id": "tYOnR5sjvx75",
        "outputId": "634db738-1ceb-41f0-95e9-e63b3f5c2eaa"
      },
      "execution_count": 61,
      "outputs": [
        {
          "output_type": "execute_result",
          "data": {
            "text/plain": [
              "0.8798635748248219"
            ]
          },
          "metadata": {},
          "execution_count": 61
        }
      ]
    },
    {
      "cell_type": "markdown",
      "source": [
        "* R2 score is from the y_pred_train, which is our new variable with the inverse of the boxcox compared to the original y_test.\n",
        "\n",
        "* high r2 score, indicating strong predictions\n"
      ],
      "metadata": {
        "id": "OSCPIdRbzJHW"
      }
    },
    {
      "cell_type": "markdown",
      "source": [
        "\n",
        "### Determining the R^2 of a LinearRegression without the box cox transformation.\n"
      ],
      "metadata": {
        "id": "qc_1rZwzyC4N"
      }
    },
    {
      "cell_type": "code",
      "source": [
        "lr = LinearRegression()\n",
        "lr.fit(X_train_s, y_train) #y_train without bx transformation\n",
        "lr_pred = lr.predict(X_test_s)\n",
        "r2_score(lr_pred, y_test)"
      ],
      "metadata": {
        "colab": {
          "base_uri": "https://localhost:8080/"
        },
        "id": "QF-GzQRayJnv",
        "outputId": "93721aeb-03e8-4803-ab26-35e16096f187"
      },
      "execution_count": 63,
      "outputs": [
        {
          "output_type": "execute_result",
          "data": {
            "text/plain": [
              "0.8558518908813469"
            ]
          },
          "metadata": {},
          "execution_count": 63
        }
      ]
    },
    {
      "cell_type": "markdown",
      "source": [
        "Hence, the boxcox transformation of coming up with more normal distribution for our outcome variable did improve the score"
      ],
      "metadata": {
        "id": "5wwFRkuo0IdG"
      }
    },
    {
      "cell_type": "code",
      "source": [],
      "metadata": {
        "id": "89CyR1jy0N3L"
      },
      "execution_count": null,
      "outputs": []
    },
    {
      "cell_type": "code",
      "source": [],
      "metadata": {
        "id": "tEFquQjg0Hsq"
      },
      "execution_count": null,
      "outputs": []
    }
  ]
}