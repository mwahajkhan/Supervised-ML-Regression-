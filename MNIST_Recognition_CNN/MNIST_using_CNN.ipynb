{
 "cells": [
  {
   "cell_type": "code",
   "execution_count": 1,
   "id": "d313a7d7",
   "metadata": {
    "_cell_guid": "b1076dfc-b9ad-4769-8c92-a6c4dae69d19",
    "_uuid": "8f2839f25d086af736a60e9eeb907d3b93b6e0e5",
    "execution": {
     "iopub.execute_input": "2024-04-29T18:38:53.785603Z",
     "iopub.status.busy": "2024-04-29T18:38:53.784800Z",
     "iopub.status.idle": "2024-04-29T18:38:54.871216Z",
     "shell.execute_reply": "2024-04-29T18:38:54.869972Z"
    },
    "papermill": {
     "duration": 1.096342,
     "end_time": "2024-04-29T18:38:54.874062",
     "exception": false,
     "start_time": "2024-04-29T18:38:53.777720",
     "status": "completed"
    },
    "tags": []
   },
   "outputs": [
    {
     "name": "stdout",
     "output_type": "stream",
     "text": [
      "/kaggle/input/digit-recognizer/sample_submission.csv\n",
      "/kaggle/input/digit-recognizer/train.csv\n",
      "/kaggle/input/digit-recognizer/test.csv\n",
      "/kaggle/input/simple-mnist-nn-from-scratch-numpy-no-tf-keras/__results__.html\n",
      "/kaggle/input/simple-mnist-nn-from-scratch-numpy-no-tf-keras/__resultx__.html\n",
      "/kaggle/input/simple-mnist-nn-from-scratch-numpy-no-tf-keras/__notebook__.ipynb\n",
      "/kaggle/input/simple-mnist-nn-from-scratch-numpy-no-tf-keras/__output__.json\n",
      "/kaggle/input/simple-mnist-nn-from-scratch-numpy-no-tf-keras/custom.css\n",
      "/kaggle/input/simple-mnist-nn-from-scratch-numpy-no-tf-keras/__results___files/__results___11_7.png\n",
      "/kaggle/input/simple-mnist-nn-from-scratch-numpy-no-tf-keras/__results___files/__results___11_5.png\n",
      "/kaggle/input/simple-mnist-nn-from-scratch-numpy-no-tf-keras/__results___files/__results___11_3.png\n",
      "/kaggle/input/simple-mnist-nn-from-scratch-numpy-no-tf-keras/__results___files/__results___11_1.png\n"
     ]
    }
   ],
   "source": [
    "import numpy as np \n",
    "import pandas as pd\n",
    "\n",
    "import os\n",
    "for dirname, _, filenames in os.walk('/kaggle/input'):\n",
    "    for filename in filenames:\n",
    "        print(os.path.join(dirname, filename))\n",
    "from matplotlib import pyplot as plt\n"
   ]
  },
  {
   "cell_type": "code",
   "execution_count": 2,
   "id": "51020ba1",
   "metadata": {
    "execution": {
     "iopub.execute_input": "2024-04-29T18:38:54.885381Z",
     "iopub.status.busy": "2024-04-29T18:38:54.884849Z",
     "iopub.status.idle": "2024-04-29T18:38:59.268795Z",
     "shell.execute_reply": "2024-04-29T18:38:59.267668Z"
    },
    "papermill": {
     "duration": 4.39262,
     "end_time": "2024-04-29T18:38:59.271566",
     "exception": false,
     "start_time": "2024-04-29T18:38:54.878946",
     "status": "completed"
    },
    "tags": []
   },
   "outputs": [],
   "source": [
    "data = pd.read_csv('/kaggle/input/digit-recognizer/train.csv')"
   ]
  },
  {
   "cell_type": "code",
   "execution_count": 3,
   "id": "d74a4cde",
   "metadata": {
    "execution": {
     "iopub.execute_input": "2024-04-29T18:38:59.282683Z",
     "iopub.status.busy": "2024-04-29T18:38:59.282278Z",
     "iopub.status.idle": "2024-04-29T18:38:59.312646Z",
     "shell.execute_reply": "2024-04-29T18:38:59.311466Z"
    },
    "papermill": {
     "duration": 0.038872,
     "end_time": "2024-04-29T18:38:59.315347",
     "exception": false,
     "start_time": "2024-04-29T18:38:59.276475",
     "status": "completed"
    },
    "tags": []
   },
   "outputs": [
    {
     "data": {
      "text/html": [
       "<div>\n",
       "<style scoped>\n",
       "    .dataframe tbody tr th:only-of-type {\n",
       "        vertical-align: middle;\n",
       "    }\n",
       "\n",
       "    .dataframe tbody tr th {\n",
       "        vertical-align: top;\n",
       "    }\n",
       "\n",
       "    .dataframe thead th {\n",
       "        text-align: right;\n",
       "    }\n",
       "</style>\n",
       "<table border=\"1\" class=\"dataframe\">\n",
       "  <thead>\n",
       "    <tr style=\"text-align: right;\">\n",
       "      <th></th>\n",
       "      <th>label</th>\n",
       "      <th>pixel0</th>\n",
       "      <th>pixel1</th>\n",
       "      <th>pixel2</th>\n",
       "      <th>pixel3</th>\n",
       "      <th>pixel4</th>\n",
       "      <th>pixel5</th>\n",
       "      <th>pixel6</th>\n",
       "      <th>pixel7</th>\n",
       "      <th>pixel8</th>\n",
       "      <th>...</th>\n",
       "      <th>pixel774</th>\n",
       "      <th>pixel775</th>\n",
       "      <th>pixel776</th>\n",
       "      <th>pixel777</th>\n",
       "      <th>pixel778</th>\n",
       "      <th>pixel779</th>\n",
       "      <th>pixel780</th>\n",
       "      <th>pixel781</th>\n",
       "      <th>pixel782</th>\n",
       "      <th>pixel783</th>\n",
       "    </tr>\n",
       "  </thead>\n",
       "  <tbody>\n",
       "    <tr>\n",
       "      <th>0</th>\n",
       "      <td>1</td>\n",
       "      <td>0</td>\n",
       "      <td>0</td>\n",
       "      <td>0</td>\n",
       "      <td>0</td>\n",
       "      <td>0</td>\n",
       "      <td>0</td>\n",
       "      <td>0</td>\n",
       "      <td>0</td>\n",
       "      <td>0</td>\n",
       "      <td>...</td>\n",
       "      <td>0</td>\n",
       "      <td>0</td>\n",
       "      <td>0</td>\n",
       "      <td>0</td>\n",
       "      <td>0</td>\n",
       "      <td>0</td>\n",
       "      <td>0</td>\n",
       "      <td>0</td>\n",
       "      <td>0</td>\n",
       "      <td>0</td>\n",
       "    </tr>\n",
       "    <tr>\n",
       "      <th>1</th>\n",
       "      <td>0</td>\n",
       "      <td>0</td>\n",
       "      <td>0</td>\n",
       "      <td>0</td>\n",
       "      <td>0</td>\n",
       "      <td>0</td>\n",
       "      <td>0</td>\n",
       "      <td>0</td>\n",
       "      <td>0</td>\n",
       "      <td>0</td>\n",
       "      <td>...</td>\n",
       "      <td>0</td>\n",
       "      <td>0</td>\n",
       "      <td>0</td>\n",
       "      <td>0</td>\n",
       "      <td>0</td>\n",
       "      <td>0</td>\n",
       "      <td>0</td>\n",
       "      <td>0</td>\n",
       "      <td>0</td>\n",
       "      <td>0</td>\n",
       "    </tr>\n",
       "    <tr>\n",
       "      <th>2</th>\n",
       "      <td>1</td>\n",
       "      <td>0</td>\n",
       "      <td>0</td>\n",
       "      <td>0</td>\n",
       "      <td>0</td>\n",
       "      <td>0</td>\n",
       "      <td>0</td>\n",
       "      <td>0</td>\n",
       "      <td>0</td>\n",
       "      <td>0</td>\n",
       "      <td>...</td>\n",
       "      <td>0</td>\n",
       "      <td>0</td>\n",
       "      <td>0</td>\n",
       "      <td>0</td>\n",
       "      <td>0</td>\n",
       "      <td>0</td>\n",
       "      <td>0</td>\n",
       "      <td>0</td>\n",
       "      <td>0</td>\n",
       "      <td>0</td>\n",
       "    </tr>\n",
       "    <tr>\n",
       "      <th>3</th>\n",
       "      <td>4</td>\n",
       "      <td>0</td>\n",
       "      <td>0</td>\n",
       "      <td>0</td>\n",
       "      <td>0</td>\n",
       "      <td>0</td>\n",
       "      <td>0</td>\n",
       "      <td>0</td>\n",
       "      <td>0</td>\n",
       "      <td>0</td>\n",
       "      <td>...</td>\n",
       "      <td>0</td>\n",
       "      <td>0</td>\n",
       "      <td>0</td>\n",
       "      <td>0</td>\n",
       "      <td>0</td>\n",
       "      <td>0</td>\n",
       "      <td>0</td>\n",
       "      <td>0</td>\n",
       "      <td>0</td>\n",
       "      <td>0</td>\n",
       "    </tr>\n",
       "    <tr>\n",
       "      <th>4</th>\n",
       "      <td>0</td>\n",
       "      <td>0</td>\n",
       "      <td>0</td>\n",
       "      <td>0</td>\n",
       "      <td>0</td>\n",
       "      <td>0</td>\n",
       "      <td>0</td>\n",
       "      <td>0</td>\n",
       "      <td>0</td>\n",
       "      <td>0</td>\n",
       "      <td>...</td>\n",
       "      <td>0</td>\n",
       "      <td>0</td>\n",
       "      <td>0</td>\n",
       "      <td>0</td>\n",
       "      <td>0</td>\n",
       "      <td>0</td>\n",
       "      <td>0</td>\n",
       "      <td>0</td>\n",
       "      <td>0</td>\n",
       "      <td>0</td>\n",
       "    </tr>\n",
       "  </tbody>\n",
       "</table>\n",
       "<p>5 rows × 785 columns</p>\n",
       "</div>"
      ],
      "text/plain": [
       "   label  pixel0  pixel1  pixel2  pixel3  pixel4  pixel5  pixel6  pixel7  \\\n",
       "0      1       0       0       0       0       0       0       0       0   \n",
       "1      0       0       0       0       0       0       0       0       0   \n",
       "2      1       0       0       0       0       0       0       0       0   \n",
       "3      4       0       0       0       0       0       0       0       0   \n",
       "4      0       0       0       0       0       0       0       0       0   \n",
       "\n",
       "   pixel8  ...  pixel774  pixel775  pixel776  pixel777  pixel778  pixel779  \\\n",
       "0       0  ...         0         0         0         0         0         0   \n",
       "1       0  ...         0         0         0         0         0         0   \n",
       "2       0  ...         0         0         0         0         0         0   \n",
       "3       0  ...         0         0         0         0         0         0   \n",
       "4       0  ...         0         0         0         0         0         0   \n",
       "\n",
       "   pixel780  pixel781  pixel782  pixel783  \n",
       "0         0         0         0         0  \n",
       "1         0         0         0         0  \n",
       "2         0         0         0         0  \n",
       "3         0         0         0         0  \n",
       "4         0         0         0         0  \n",
       "\n",
       "[5 rows x 785 columns]"
      ]
     },
     "execution_count": 3,
     "metadata": {},
     "output_type": "execute_result"
    }
   ],
   "source": [
    "data.head()"
   ]
  },
  {
   "cell_type": "code",
   "execution_count": 4,
   "id": "0bf44342",
   "metadata": {
    "execution": {
     "iopub.execute_input": "2024-04-29T18:38:59.327914Z",
     "iopub.status.busy": "2024-04-29T18:38:59.326751Z",
     "iopub.status.idle": "2024-04-29T18:39:00.236076Z",
     "shell.execute_reply": "2024-04-29T18:39:00.234659Z"
    },
    "papermill": {
     "duration": 0.918577,
     "end_time": "2024-04-29T18:39:00.238913",
     "exception": false,
     "start_time": "2024-04-29T18:38:59.320336",
     "status": "completed"
    },
    "tags": []
   },
   "outputs": [],
   "source": [
    "data = np.array(data)\n",
    "m, n = data.shape\n",
    "np.random.shuffle(data)\n",
    "\n",
    "data_dev = data[0:1000].T\n",
    "Y_dev = data_dev[0]\n",
    "X_dev =data_dev[1:n]\n",
    "\n",
    "data_train = data[1000:m].T\n",
    "Y_train = data_train[0]\n",
    "X_train = data_train[1:n]\n",
    "X_train = X_train / 255\n",
    "_,m_train = X_train.shape"
   ]
  },
  {
   "cell_type": "code",
   "execution_count": 5,
   "id": "d7f1e3e8",
   "metadata": {
    "execution": {
     "iopub.execute_input": "2024-04-29T18:39:00.251191Z",
     "iopub.status.busy": "2024-04-29T18:39:00.250814Z",
     "iopub.status.idle": "2024-04-29T18:39:00.259471Z",
     "shell.execute_reply": "2024-04-29T18:39:00.258094Z"
    },
    "papermill": {
     "duration": 0.017842,
     "end_time": "2024-04-29T18:39:00.261847",
     "exception": false,
     "start_time": "2024-04-29T18:39:00.244005",
     "status": "completed"
    },
    "tags": []
   },
   "outputs": [
    {
     "data": {
      "text/plain": [
       "array([9, 2, 9, ..., 1, 3, 8])"
      ]
     },
     "execution_count": 5,
     "metadata": {},
     "output_type": "execute_result"
    }
   ],
   "source": [
    "Y_train"
   ]
  },
  {
   "cell_type": "code",
   "execution_count": 6,
   "id": "0896cc2d",
   "metadata": {
    "execution": {
     "iopub.execute_input": "2024-04-29T18:39:00.273975Z",
     "iopub.status.busy": "2024-04-29T18:39:00.273560Z",
     "iopub.status.idle": "2024-04-29T18:39:00.289639Z",
     "shell.execute_reply": "2024-04-29T18:39:00.288398Z"
    },
    "papermill": {
     "duration": 0.025472,
     "end_time": "2024-04-29T18:39:00.292587",
     "exception": false,
     "start_time": "2024-04-29T18:39:00.267115",
     "status": "completed"
    },
    "tags": []
   },
   "outputs": [],
   "source": [
    "def init_params():\n",
    "    W1 = np.random.rand(10, 784) - 0.5\n",
    "    b1 = np.random.rand(10,1) - 0.5\n",
    "    W2 = np.random.rand(10, 10) - 0.5\n",
    "    b2 = np.random.rand(10, 1) - 0.5\n",
    "    return W1, b1, W2, b2\n",
    "\n",
    "def ReLU(Z):\n",
    "    return np.maximum(Z, 0)\n",
    "    \n",
    "def softmax(Z):\n",
    "    A = np.exp(Z) / sum(np.exp(Z))\n",
    "    return A\n",
    "\n",
    "def forward_prop(W1, b1, W2, b2, X):\n",
    "    Z1 = W1.dot(X) + b1\n",
    "    A1 = ReLU(Z1)\n",
    "    Z2 = W2.dot(A1) + b2\n",
    "    A2 = softmax(Z2)\n",
    "    return Z1, A1, Z2, A2\n",
    "\n",
    "def ReLU_deriv(Z):\n",
    "    return Z > 0\n",
    "\n",
    "def one_hot(Y):\n",
    "    one_hot_Y = np.zeros((Y.size, Y.max() + 1))\n",
    "    one_hot_Y[np.arange(Y.size), Y] = 1\n",
    "    one_hot_Y = one_hot_Y.T\n",
    "    return one_hot_Y\n",
    "\n",
    "def backward_prop(Z1, A1, Z2, A2, W1, W2, X, Y):\n",
    "    one_hot_Y = one_hot(Y)\n",
    "    dZ2 = A2 - one_hot_Y\n",
    "    dW2 = 1 / m * dZ2.dot(A1.T)\n",
    "    db2 = 1 / m * np.sum(dZ2)\n",
    "    dZ1 = W2.T.dot(dZ2) * ReLU_deriv(Z1)\n",
    "    dW1 = 1 / m * dZ1.dot(X.T)\n",
    "    db1 = 1 / m * np.sum(dZ1)\n",
    "    \n",
    "    return dW1, db1, dW2, db2\n",
    "\n",
    "def update_params(W1, b1, W2, b2, dW1, db1, dW2, db2, alpha):\n",
    "    W1 = W1 - alpha * dW1\n",
    "    b1 = b1 - alpha * db1\n",
    "    W2 = W2 - alpha * dW2\n",
    "    b2 = b2 - alpha * db2\n",
    "    return W1, b1, W2, b2"
   ]
  },
  {
   "cell_type": "code",
   "execution_count": 7,
   "id": "87a43d02",
   "metadata": {
    "execution": {
     "iopub.execute_input": "2024-04-29T18:39:00.304941Z",
     "iopub.status.busy": "2024-04-29T18:39:00.304523Z",
     "iopub.status.idle": "2024-04-29T18:39:00.314426Z",
     "shell.execute_reply": "2024-04-29T18:39:00.313156Z"
    },
    "papermill": {
     "duration": 0.019267,
     "end_time": "2024-04-29T18:39:00.317076",
     "exception": false,
     "start_time": "2024-04-29T18:39:00.297809",
     "status": "completed"
    },
    "tags": []
   },
   "outputs": [],
   "source": [
    "def get_predictions(A2):\n",
    "    return np.argmax(A2, 0)\n",
    "\n",
    "def get_accuracy(predictions, Y):\n",
    "    print(predictions, Y)\n",
    "    return np.sum(predictions == Y) / Y.size\n",
    "\n",
    "def gradient_descent(X, Y, alpha, iterations):\n",
    "    W1, b1, W2, b2 = init_params()\n",
    "    for i in range(iterations):\n",
    "        Z1, A1, Z2, A2 = forward_prop(W1, b1, W2, b2, X)\n",
    "        dW1, db1, dW2, db2 = backward_prop(Z1, A1, Z2, A2, W1, W2, X, Y)\n",
    "        W1, b1, W2, b2 = update_params(W1, b1, W2, b2, dW1, db1, dW2, db2, alpha)\n",
    "        if i % 10 == 0:\n",
    "            print(\"Iteration: \", i)\n",
    "            predictions = get_predictions(A2)\n",
    "            print(get_accuracy(predictions, Y))\n",
    "    return W1, b1, W2, b2"
   ]
  },
  {
   "cell_type": "code",
   "execution_count": 8,
   "id": "06fa8ea8",
   "metadata": {
    "execution": {
     "iopub.execute_input": "2024-04-29T18:39:00.332547Z",
     "iopub.status.busy": "2024-04-29T18:39:00.331967Z",
     "iopub.status.idle": "2024-04-29T18:40:02.273309Z",
     "shell.execute_reply": "2024-04-29T18:40:02.271699Z"
    },
    "papermill": {
     "duration": 61.955809,
     "end_time": "2024-04-29T18:40:02.278694",
     "exception": false,
     "start_time": "2024-04-29T18:39:00.322885",
     "status": "completed"
    },
    "tags": []
   },
   "outputs": [
    {
     "name": "stdout",
     "output_type": "stream",
     "text": [
      "Iteration:  0\n",
      "[8 4 7 ... 7 7 7] [9 2 9 ... 1 3 8]\n",
      "0.09746341463414634\n",
      "Iteration:  10\n",
      "[8 9 9 ... 1 3 9] [9 2 9 ... 1 3 8]\n",
      "0.24548780487804878\n",
      "Iteration:  20\n",
      "[4 2 9 ... 1 3 9] [9 2 9 ... 1 3 8]\n",
      "0.35285365853658535\n",
      "Iteration:  30\n",
      "[4 2 7 ... 1 3 2] [9 2 9 ... 1 3 8]\n",
      "0.43573170731707317\n",
      "Iteration:  40\n",
      "[4 2 7 ... 1 3 2] [9 2 9 ... 1 3 8]\n",
      "0.4891463414634146\n",
      "Iteration:  50\n",
      "[9 2 7 ... 1 3 2] [9 2 9 ... 1 3 8]\n",
      "0.5338780487804878\n",
      "Iteration:  60\n",
      "[9 2 7 ... 1 3 2] [9 2 9 ... 1 3 8]\n",
      "0.5669512195121951\n",
      "Iteration:  70\n",
      "[9 4 7 ... 1 3 8] [9 2 9 ... 1 3 8]\n",
      "0.5936829268292683\n",
      "Iteration:  80\n",
      "[9 4 7 ... 1 3 8] [9 2 9 ... 1 3 8]\n",
      "0.6167317073170732\n",
      "Iteration:  90\n",
      "[9 4 7 ... 1 3 8] [9 2 9 ... 1 3 8]\n",
      "0.6377317073170732\n",
      "Iteration:  100\n",
      "[9 4 7 ... 1 3 8] [9 2 9 ... 1 3 8]\n",
      "0.6562926829268293\n",
      "Iteration:  110\n",
      "[9 4 7 ... 1 3 8] [9 2 9 ... 1 3 8]\n",
      "0.6726585365853659\n",
      "Iteration:  120\n",
      "[9 4 7 ... 1 3 8] [9 2 9 ... 1 3 8]\n",
      "0.6879512195121951\n",
      "Iteration:  130\n",
      "[9 4 7 ... 1 3 8] [9 2 9 ... 1 3 8]\n",
      "0.7007073170731707\n",
      "Iteration:  140\n",
      "[9 4 7 ... 1 3 8] [9 2 9 ... 1 3 8]\n",
      "0.7118048780487805\n",
      "Iteration:  150\n",
      "[9 4 7 ... 1 3 8] [9 2 9 ... 1 3 8]\n",
      "0.7230243902439024\n",
      "Iteration:  160\n",
      "[9 4 7 ... 1 3 8] [9 2 9 ... 1 3 8]\n",
      "0.7331219512195122\n",
      "Iteration:  170\n",
      "[9 4 7 ... 1 3 8] [9 2 9 ... 1 3 8]\n",
      "0.7414634146341463\n",
      "Iteration:  180\n",
      "[9 4 9 ... 1 3 8] [9 2 9 ... 1 3 8]\n",
      "0.7495365853658537\n",
      "Iteration:  190\n",
      "[9 4 9 ... 1 3 8] [9 2 9 ... 1 3 8]\n",
      "0.7572439024390244\n",
      "Iteration:  200\n",
      "[9 4 9 ... 1 3 8] [9 2 9 ... 1 3 8]\n",
      "0.7641219512195122\n",
      "Iteration:  210\n",
      "[9 4 9 ... 1 3 8] [9 2 9 ... 1 3 8]\n",
      "0.7712439024390244\n",
      "Iteration:  220\n",
      "[9 4 9 ... 1 3 8] [9 2 9 ... 1 3 8]\n",
      "0.7774878048780488\n",
      "Iteration:  230\n",
      "[9 2 9 ... 1 3 8] [9 2 9 ... 1 3 8]\n",
      "0.7833170731707317\n",
      "Iteration:  240\n",
      "[9 2 9 ... 1 3 8] [9 2 9 ... 1 3 8]\n",
      "0.7890487804878049\n",
      "Iteration:  250\n",
      "[9 2 9 ... 1 3 8] [9 2 9 ... 1 3 8]\n",
      "0.7941707317073171\n",
      "Iteration:  260\n",
      "[9 2 9 ... 1 3 8] [9 2 9 ... 1 3 8]\n",
      "0.7986341463414635\n",
      "Iteration:  270\n",
      "[9 2 9 ... 1 3 8] [9 2 9 ... 1 3 8]\n",
      "0.8032926829268293\n",
      "Iteration:  280\n",
      "[9 2 9 ... 1 3 8] [9 2 9 ... 1 3 8]\n",
      "0.807219512195122\n",
      "Iteration:  290\n",
      "[9 2 9 ... 1 3 8] [9 2 9 ... 1 3 8]\n",
      "0.8107317073170732\n",
      "Iteration:  300\n",
      "[9 2 9 ... 1 3 8] [9 2 9 ... 1 3 8]\n",
      "0.8139268292682926\n",
      "Iteration:  310\n",
      "[9 2 9 ... 1 3 8] [9 2 9 ... 1 3 8]\n",
      "0.8174634146341463\n",
      "Iteration:  320\n",
      "[9 2 9 ... 1 3 8] [9 2 9 ... 1 3 8]\n",
      "0.8201463414634146\n",
      "Iteration:  330\n",
      "[9 2 9 ... 1 3 8] [9 2 9 ... 1 3 8]\n",
      "0.8228292682926829\n",
      "Iteration:  340\n",
      "[9 2 9 ... 1 3 8] [9 2 9 ... 1 3 8]\n",
      "0.8253414634146341\n",
      "Iteration:  350\n",
      "[9 2 9 ... 1 3 8] [9 2 9 ... 1 3 8]\n",
      "0.8280487804878048\n",
      "Iteration:  360\n",
      "[9 2 9 ... 1 3 8] [9 2 9 ... 1 3 8]\n",
      "0.8302439024390244\n",
      "Iteration:  370\n",
      "[9 2 9 ... 1 3 8] [9 2 9 ... 1 3 8]\n",
      "0.8322439024390244\n",
      "Iteration:  380\n",
      "[9 2 9 ... 1 3 8] [9 2 9 ... 1 3 8]\n",
      "0.8342195121951219\n",
      "Iteration:  390\n",
      "[9 2 9 ... 1 3 8] [9 2 9 ... 1 3 8]\n",
      "0.8362682926829268\n",
      "Iteration:  400\n",
      "[9 2 9 ... 1 3 8] [9 2 9 ... 1 3 8]\n",
      "0.8385365853658536\n",
      "Iteration:  410\n",
      "[9 2 9 ... 1 3 8] [9 2 9 ... 1 3 8]\n",
      "0.8404878048780487\n",
      "Iteration:  420\n",
      "[9 2 9 ... 1 3 8] [9 2 9 ... 1 3 8]\n",
      "0.8422926829268292\n",
      "Iteration:  430\n",
      "[9 2 9 ... 1 3 8] [9 2 9 ... 1 3 8]\n",
      "0.8441463414634146\n",
      "Iteration:  440\n",
      "[9 2 9 ... 1 3 8] [9 2 9 ... 1 3 8]\n",
      "0.8458292682926829\n",
      "Iteration:  450\n",
      "[9 2 9 ... 1 3 8] [9 2 9 ... 1 3 8]\n",
      "0.8470243902439024\n",
      "Iteration:  460\n",
      "[9 2 9 ... 1 3 8] [9 2 9 ... 1 3 8]\n",
      "0.8488536585365853\n",
      "Iteration:  470\n",
      "[9 2 9 ... 1 3 8] [9 2 9 ... 1 3 8]\n",
      "0.8502195121951219\n",
      "Iteration:  480\n",
      "[9 2 9 ... 1 3 8] [9 2 9 ... 1 3 8]\n",
      "0.8512682926829268\n",
      "Iteration:  490\n",
      "[9 2 9 ... 1 3 8] [9 2 9 ... 1 3 8]\n",
      "0.8526341463414634\n"
     ]
    }
   ],
   "source": [
    "W1, b1, W2, b2 = gradient_descent(X_train, Y_train, 0.10, 500)"
   ]
  },
  {
   "cell_type": "code",
   "execution_count": 9,
   "id": "9b3b4a2d",
   "metadata": {
    "execution": {
     "iopub.execute_input": "2024-04-29T18:40:02.324380Z",
     "iopub.status.busy": "2024-04-29T18:40:02.323493Z",
     "iopub.status.idle": "2024-04-29T18:40:02.338728Z",
     "shell.execute_reply": "2024-04-29T18:40:02.337110Z"
    },
    "papermill": {
     "duration": 0.04308,
     "end_time": "2024-04-29T18:40:02.343804",
     "exception": false,
     "start_time": "2024-04-29T18:40:02.300724",
     "status": "completed"
    },
    "tags": []
   },
   "outputs": [],
   "source": [
    "def make_predictions(X, W1, b1, W2, b2):\n",
    "    _, _, _, A2 = forward_prop(W1, b1, W2, b2, X)\n",
    "    predictions = get_predictions(A2)\n",
    "    return predictions\n",
    "    \n",
    "def test_prediction(index, W1, b1, W2, b2):\n",
    "    current_image = X_train[:, index, None]\n",
    "    prediction = make_predictions(X_train[:, index, None], W1, b1, W2, b2)\n",
    "    label = Y_train[index]\n",
    "    print(\"Prediction: \", prediction)\n",
    "    print(\"Label: \", label)\n",
    "    \n",
    "    current_image = current_image.reshape((28, 28)) * 255\n",
    "    plt.gray()\n",
    "    plt.imshow(current_image, interpolation='nearest')\n",
    "    plt.show()"
   ]
  },
  {
   "cell_type": "code",
   "execution_count": 10,
   "id": "76fbc801",
   "metadata": {
    "execution": {
     "iopub.execute_input": "2024-04-29T18:40:02.389738Z",
     "iopub.status.busy": "2024-04-29T18:40:02.389053Z",
     "iopub.status.idle": "2024-04-29T18:40:03.138217Z",
     "shell.execute_reply": "2024-04-29T18:40:03.137058Z"
    },
    "papermill": {
     "duration": 0.775196,
     "end_time": "2024-04-29T18:40:03.140760",
     "exception": false,
     "start_time": "2024-04-29T18:40:02.365564",
     "status": "completed"
    },
    "tags": []
   },
   "outputs": [
    {
     "name": "stdout",
     "output_type": "stream",
     "text": [
      "Prediction:  [9]\n",
      "Label:  9\n"
     ]
    },
    {
     "data": {
      "image/png": "[encoded data removed]",
      "text/plain": [
       "<Figure size 640x480 with 1 Axes>"
      ]
     },
     "metadata": {},
     "output_type": "display_data"
    },
    {
     "name": "stdout",
     "output_type": "stream",
     "text": [
      "Prediction:  [2]\n",
      "Label:  2\n"
     ]
    },
    {
     "data": {
      "image/png": "[encoded data removed]",
      "text/plain": [
       "<Figure size 640x480 with 1 Axes>"
      ]
     },
     "metadata": {},
     "output_type": "display_data"
    },
    {
     "name": "stdout",
     "output_type": "stream",
     "text": [
      "Prediction:  [9]\n",
      "Label:  9\n"
     ]
    },
    {
     "data": {
      "image/png": "[encoded data removed]",
      "text/plain": [
       "<Figure size 640x480 with 1 Axes>"
      ]
     },
     "metadata": {},
     "output_type": "display_data"
    },
    {
     "name": "stdout",
     "output_type": "stream",
     "text": [
      "Prediction:  [5]\n",
      "Label:  8\n"
     ]
    },
    {
     "data": {
      "image/png": "[encoded data removed]",
      "text/plain": [
       "<Figure size 640x480 with 1 Axes>"
      ]
     },
     "metadata": {},
     "output_type": "display_data"
    }
   ],
   "source": [
    "test_prediction(0, W1, b1, W2, b2)\n",
    "test_prediction(1, W1, b1, W2, b2)\n",
    "test_prediction(2, W1, b1, W2, b2)\n",
    "test_prediction(3, W1, b1, W2, b2)"
   ]
  }
 ],
 "metadata": {
  "kaggle": {
   "accelerator": "none",
   "dataSources": [
    {
     "databundleVersionId": 861823,
     "sourceId": 3004,
     "sourceType": "competition"
    },
    {
     "sourceId": 47652503,
     "sourceType": "kernelVersion"
    }
   ],
   "dockerImageVersionId": 30698,
   "isGpuEnabled": false,
   "isInternetEnabled": false,
   "language": "python",
   "sourceType": "notebook"
  },
  "kernelspec": {
   "display_name": "Python 3",
   "language": "python",
   "name": "python3"
  },
  "language_info": {
   "codemirror_mode": {
    "name": "ipython",
    "version": 3
   },
   "file_extension": ".py",
   "mimetype": "text/x-python",
   "name": "python",
   "nbconvert_exporter": "python",
   "pygments_lexer": "ipython3",
   "version": "3.10.13"
  },
  "papermill": {
   "default_parameters": {},
   "duration": 73.131457,
   "end_time": "2024-04-29T18:40:03.672824",
   "environment_variables": {},
   "exception": null,
   "input_path": "__notebook__.ipynb",
   "output_path": "__notebook__.ipynb",
   "parameters": {},
   "start_time": "2024-04-29T18:38:50.541367",
   "version": "2.5.0"
  }
 },
 "nbformat": 4,
 "nbformat_minor": 5
}
